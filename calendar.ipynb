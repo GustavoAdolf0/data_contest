{
  "nbformat": 4,
  "nbformat_minor": 0,
  "metadata": {
    "colab": {
      "name": "calendar.ipynb",
      "provenance": [],
      "mount_file_id": "1PdpD61VBvAG3aldBpzCbcxOZfD9Pdm1J",
      "authorship_tag": "ABX9TyOk/81dZiCyc3Uiu6ShkDHY",
      "include_colab_link": true
    },
    "kernelspec": {
      "name": "python3",
      "display_name": "Python 3"
    },
    "language_info": {
      "name": "python"
    }
  },
  "cells": [
    {
      "cell_type": "markdown",
      "metadata": {
        "id": "view-in-github",
        "colab_type": "text"
      },
      "source": [
        "<a href=\"https://colab.research.google.com/github/GustavoAdolf0/data_contest/blob/main/calendar.ipynb\" target=\"_parent\"><img src=\"https://colab.research.google.com/assets/colab-badge.svg\" alt=\"Open In Colab\"/></a>"
      ]
    },
    {
      "cell_type": "markdown",
      "metadata": {
        "id": "jJRtuyZxNklY"
      },
      "source": [
        "#Store Sales - Time Series Forecasting\n",
        "\n",
        "\n",
        "*   Revisar Data\n",
        "\n",
        "*   limpiar\n",
        "*   unir\n",
        "\n",
        "\n",
        "*   aplicar primer modelo\n",
        "\n"
      ]
    },
    {
      "cell_type": "code",
      "metadata": {
        "id": "KdVvBktoKQAO"
      },
      "source": [
        "import numpy as np\n",
        "import pandas as pd\n",
        "from google.colab import drive "
      ],
      "execution_count": null,
      "outputs": []
    },
    {
      "cell_type": "code",
      "metadata": {
        "id": "4mF-n1sKVlUT"
      },
      "source": [
        "path = \"drive/MyDrive/store_sales/\""
      ],
      "execution_count": null,
      "outputs": []
    },
    {
      "cell_type": "code",
      "metadata": {
        "id": "qinSrRMkNoWc"
      },
      "source": [
        "# data del kaggle\n",
        "holyday_events= pd.read_csv(path+\"holidays_events.csv\")\n",
        "add_holy= pd.read_excel(path+\"holy_add.xlsx\")"
      ],
      "execution_count": null,
      "outputs": []
    },
    {
      "cell_type": "code",
      "metadata": {
        "colab": {
          "base_uri": "https://localhost:8080/"
        },
        "id": "pfCxUJmfZnIE",
        "outputId": "c9a89115-9c37-44e5-b9b2-fb2d7a2add54"
      },
      "source": [
        "len(holyday_events), len(add_holy)"
      ],
      "execution_count": null,
      "outputs": [
        {
          "output_type": "execute_result",
          "data": {
            "text/plain": [
              "(350, 24)"
            ]
          },
          "metadata": {},
          "execution_count": 4
        }
      ]
    },
    {
      "cell_type": "code",
      "metadata": {
        "colab": {
          "base_uri": "https://localhost:8080/"
        },
        "id": "wNKxkQzz8CDD",
        "outputId": "1593ba1a-1ea8-4151-9eee-322a0502da99"
      },
      "source": [
        "holyday_events = holyday_events.append(add_holy, ignore_index=True)\n",
        "# agregar la info abajo del original\n",
        "len(holyday_events)"
      ],
      "execution_count": null,
      "outputs": [
        {
          "output_type": "execute_result",
          "data": {
            "text/plain": [
              "374"
            ]
          },
          "metadata": {},
          "execution_count": 5
        }
      ]
    },
    {
      "cell_type": "code",
      "metadata": {
        "id": "rTdwCSQrZrAN",
        "colab": {
          "base_uri": "https://localhost:8080/"
        },
        "outputId": "b85ae846-011d-483e-8f59-cc4612413a4c"
      },
      "source": [
        "#hay eventos locales y nacionales, los transferred corresponden a días que se movieron, \n",
        "#quizas hay que generar un calendario que además de tener las festividades añada la info de los pagos\n",
        "\n",
        "holyday_events[\"locale_name\"].unique()"
      ],
      "execution_count": null,
      "outputs": [
        {
          "output_type": "execute_result",
          "data": {
            "text/plain": [
              "array(['Manta', 'Cotopaxi', 'Cuenca', 'Libertad', 'Riobamba', 'Puyo',\n",
              "       'Guaranda', 'Imbabura', 'Latacunga', 'Machala', 'Santo Domingo',\n",
              "       'El Carmen', 'Cayambe', 'Esmeraldas', 'Ecuador', 'Ambato',\n",
              "       'Ibarra', 'Quevedo', 'Santo Domingo de los Tsachilas',\n",
              "       'Santa Elena', 'Quito', 'Loja', 'Salinas', 'Guayaquil'],\n",
              "      dtype=object)"
            ]
          },
          "metadata": {},
          "execution_count": 6
        }
      ]
    },
    {
      "cell_type": "code",
      "metadata": {
        "colab": {
          "base_uri": "https://localhost:8080/"
        },
        "id": "BiUux9vstcgg",
        "outputId": "79d68b0b-a4ce-4afc-afb6-876bbcfb3c83"
      },
      "source": [
        "holyday_events[\"type\"].unique()"
      ],
      "execution_count": null,
      "outputs": [
        {
          "output_type": "execute_result",
          "data": {
            "text/plain": [
              "array(['Holiday', 'Transfer', 'Additional', 'Bridge', 'Work Day', 'Event'],\n",
              "      dtype=object)"
            ]
          },
          "metadata": {},
          "execution_count": 7
        }
      ]
    },
    {
      "cell_type": "code",
      "metadata": {
        "colab": {
          "base_uri": "https://localhost:8080/"
        },
        "id": "PqOoe1Ggtl7_",
        "outputId": "89bd3311-6182-44e5-fe61-a76076f9f5eb"
      },
      "source": [
        "#hay que leer el archivo de stores para saber si las ubicaciones conversan\n",
        "stores= pd.read_csv(path+\"stores.csv\")\n",
        "stores[\"state\"].unique()"
      ],
      "execution_count": null,
      "outputs": [
        {
          "output_type": "execute_result",
          "data": {
            "text/plain": [
              "array(['Pichincha', 'Santo Domingo de los Tsachilas', 'Cotopaxi',\n",
              "       'Chimborazo', 'Imbabura', 'Bolivar', 'Pastaza', 'Tungurahua',\n",
              "       'Guayas', 'Santa Elena', 'Los Rios', 'Azuay', 'Loja', 'El Oro',\n",
              "       'Esmeraldas', 'Manabi'], dtype=object)"
            ]
          },
          "metadata": {},
          "execution_count": 8
        }
      ]
    },
    {
      "cell_type": "code",
      "metadata": {
        "colab": {
          "base_uri": "https://localhost:8080/"
        },
        "id": "wqf4AualwOzO",
        "outputId": "1fe6c9bf-9425-4e72-a4b1-33b30365b503"
      },
      "source": [
        "state_stores= sorted(stores.city.unique())\n",
        "locale=sorted(holyday_events.locale_name.unique())\n",
        "len(state_stores), len(locale)"
      ],
      "execution_count": null,
      "outputs": [
        {
          "output_type": "execute_result",
          "data": {
            "text/plain": [
              "(22, 24)"
            ]
          },
          "metadata": {},
          "execution_count": 9
        }
      ]
    },
    {
      "cell_type": "code",
      "metadata": {
        "colab": {
          "base_uri": "https://localhost:8080/"
        },
        "id": "o0QFiqD60q_x",
        "outputId": "ff7ce83a-892c-4b8e-9cd3-237dfac2e763"
      },
      "source": [
        "locale"
      ],
      "execution_count": null,
      "outputs": [
        {
          "output_type": "execute_result",
          "data": {
            "text/plain": [
              "['Ambato',\n",
              " 'Cayambe',\n",
              " 'Cotopaxi',\n",
              " 'Cuenca',\n",
              " 'Ecuador',\n",
              " 'El Carmen',\n",
              " 'Esmeraldas',\n",
              " 'Guaranda',\n",
              " 'Guayaquil',\n",
              " 'Ibarra',\n",
              " 'Imbabura',\n",
              " 'Latacunga',\n",
              " 'Libertad',\n",
              " 'Loja',\n",
              " 'Machala',\n",
              " 'Manta',\n",
              " 'Puyo',\n",
              " 'Quevedo',\n",
              " 'Quito',\n",
              " 'Riobamba',\n",
              " 'Salinas',\n",
              " 'Santa Elena',\n",
              " 'Santo Domingo',\n",
              " 'Santo Domingo de los Tsachilas']"
            ]
          },
          "metadata": {},
          "execution_count": 10
        }
      ]
    },
    {
      "cell_type": "code",
      "metadata": {
        "colab": {
          "base_uri": "https://localhost:8080/"
        },
        "id": "1epa_ucB1JdI",
        "outputId": "fc72d067-10d9-4c28-d2ff-0e67c5481e2b"
      },
      "source": [
        "state_stores"
      ],
      "execution_count": null,
      "outputs": [
        {
          "output_type": "execute_result",
          "data": {
            "text/plain": [
              "['Ambato',\n",
              " 'Babahoyo',\n",
              " 'Cayambe',\n",
              " 'Cuenca',\n",
              " 'Daule',\n",
              " 'El Carmen',\n",
              " 'Esmeraldas',\n",
              " 'Guaranda',\n",
              " 'Guayaquil',\n",
              " 'Ibarra',\n",
              " 'Latacunga',\n",
              " 'Libertad',\n",
              " 'Loja',\n",
              " 'Machala',\n",
              " 'Manta',\n",
              " 'Playas',\n",
              " 'Puyo',\n",
              " 'Quevedo',\n",
              " 'Quito',\n",
              " 'Riobamba',\n",
              " 'Salinas',\n",
              " 'Santo Domingo']"
            ]
          },
          "metadata": {},
          "execution_count": 11
        }
      ]
    },
    {
      "cell_type": "code",
      "metadata": {
        "colab": {
          "base_uri": "https://localhost:8080/"
        },
        "id": "qaeTt4ITxywr",
        "outputId": "baa9a72b-b286-482b-cb35-de28d1affdce"
      },
      "source": [
        "no_locale=[]\n",
        "\n",
        "for i in range(len(locale)):\n",
        "   if locale[i] not in state_stores:\n",
        "     no_locale.append(locale[i])\n",
        "print(no_locale)"
      ],
      "execution_count": null,
      "outputs": [
        {
          "output_type": "stream",
          "name": "stdout",
          "text": [
            "['Cotopaxi', 'Ecuador', 'Imbabura', 'Santa Elena', 'Santo Domingo de los Tsachilas']\n"
          ]
        }
      ]
    },
    {
      "cell_type": "markdown",
      "metadata": {
        "id": "57rB5837yzWb"
      },
      "source": [
        "son 5 ubicaciones que no están en stores, \n",
        "['Cotopaxi', 'Ecuador', 'Imbabura', 'Santa Elena', 'Santo Domingo de los Tsachilas']\n",
        "\n",
        "\n",
        "\n",
        "1.   Ecuador es nacional para todo el territorio\n",
        "2.   Santo Domingo de los Tsachilas tiene sólo una diferencia de escritura\n",
        "3.   Santa Elena no hay tiendas\n",
        "4.   Imbabura    no hay tiendas\n",
        "5.   Cotopaxi    no hay tiendas\n",
        "\n",
        "\n"
      ]
    },
    {
      "cell_type": "code",
      "metadata": {
        "id": "LmMGAhBZyiya",
        "colab": {
          "base_uri": "https://localhost:8080/",
          "height": 111
        },
        "outputId": "1af81e8d-642c-4820-a72b-47f19efbbcc2"
      },
      "source": [
        "\n",
        "holyday_events.head(2)"
      ],
      "execution_count": null,
      "outputs": [
        {
          "output_type": "execute_result",
          "data": {
            "text/html": [
              "<div>\n",
              "<style scoped>\n",
              "    .dataframe tbody tr th:only-of-type {\n",
              "        vertical-align: middle;\n",
              "    }\n",
              "\n",
              "    .dataframe tbody tr th {\n",
              "        vertical-align: top;\n",
              "    }\n",
              "\n",
              "    .dataframe thead th {\n",
              "        text-align: right;\n",
              "    }\n",
              "</style>\n",
              "<table border=\"1\" class=\"dataframe\">\n",
              "  <thead>\n",
              "    <tr style=\"text-align: right;\">\n",
              "      <th></th>\n",
              "      <th>date</th>\n",
              "      <th>type</th>\n",
              "      <th>locale</th>\n",
              "      <th>locale_name</th>\n",
              "      <th>description</th>\n",
              "      <th>transferred</th>\n",
              "    </tr>\n",
              "  </thead>\n",
              "  <tbody>\n",
              "    <tr>\n",
              "      <th>0</th>\n",
              "      <td>2012-03-02</td>\n",
              "      <td>Holiday</td>\n",
              "      <td>Local</td>\n",
              "      <td>Manta</td>\n",
              "      <td>Fundacion de Manta</td>\n",
              "      <td>False</td>\n",
              "    </tr>\n",
              "    <tr>\n",
              "      <th>1</th>\n",
              "      <td>2012-04-01</td>\n",
              "      <td>Holiday</td>\n",
              "      <td>Regional</td>\n",
              "      <td>Cotopaxi</td>\n",
              "      <td>Provincializacion de Cotopaxi</td>\n",
              "      <td>False</td>\n",
              "    </tr>\n",
              "  </tbody>\n",
              "</table>\n",
              "</div>"
            ],
            "text/plain": [
              "         date     type  ...                    description transferred\n",
              "0  2012-03-02  Holiday  ...             Fundacion de Manta       False\n",
              "1  2012-04-01  Holiday  ...  Provincializacion de Cotopaxi       False\n",
              "\n",
              "[2 rows x 6 columns]"
            ]
          },
          "metadata": {},
          "execution_count": 13
        }
      ]
    },
    {
      "cell_type": "code",
      "metadata": {
        "colab": {
          "base_uri": "https://localhost:8080/"
        },
        "id": "u7leq2lG-g-j",
        "outputId": "b48aec01-674d-40f4-e394-03618763a77b"
      },
      "source": [
        "holyday_events.type.unique()"
      ],
      "execution_count": null,
      "outputs": [
        {
          "output_type": "execute_result",
          "data": {
            "text/plain": [
              "array(['Holiday', 'Transfer', 'Additional', 'Bridge', 'Work Day', 'Event'],\n",
              "      dtype=object)"
            ]
          },
          "metadata": {},
          "execution_count": 14
        }
      ]
    },
    {
      "cell_type": "code",
      "metadata": {
        "id": "0LGMaVYWNSax"
      },
      "source": [
        "#dado que hay pocos, day work se eliminan\n",
        "holyday_events=holyday_events.drop(holyday_events.index[holyday_events[\"type\"]=='Work Day'])"
      ],
      "execution_count": null,
      "outputs": []
    },
    {
      "cell_type": "code",
      "metadata": {
        "id": "n4BdIHcVnXkC"
      },
      "source": [
        "holyday_events.loc[holyday_events['type'] ==\"Additional\", 'holyday'] = 1\n",
        "holyday_events.loc[holyday_events['type'] ==\"Bridge\", 'holyday'] = 1\n",
        "holyday_events.loc[holyday_events['type'] ==\"Holiday\", 'holyday'] = 1\n",
        "holyday_events.loc[holyday_events['type'] ==\"Transfer\", 'holyday'] = 1\n",
        "\n",
        "holyday_events[\"holyday\"]=holyday_events[\"holyday\"].fillna(0)\n",
        "\n",
        "holyday_events.loc[holyday_events['transferred'] == True, 'aux_1'] = -1\n",
        "holyday_events[\"aux_1\"]=holyday_events[\"aux_1\"].fillna(0)\n",
        "\n",
        "holyday_events[\"holyday\"] = holyday_events[\"holyday\"] + holyday_events[\"aux_1\"]\n",
        "#según 4 condiciones se genera una día feriado, para ajustar los días transferidos se genera una col aux con -1, luego se suma holyday elimiando los días feriados transferidos\n",
        "\n",
        "holyday_events.drop([\"aux_1\"], axis=1, inplace=True)\n",
        "# genera una col con 1 y 0 para ahcer la diferencia entre feriados y días no feriados, los transferred True no son feriados dado que fueron movidos\n",
        "#dado que son sólo 4 días workdays no se toman en cuenta"
      ],
      "execution_count": null,
      "outputs": []
    },
    {
      "cell_type": "code",
      "metadata": {
        "colab": {
          "base_uri": "https://localhost:8080/"
        },
        "id": "MFMDBzD5oDrr",
        "outputId": "426fdd04-2bce-4714-875d-19896227cdc5"
      },
      "source": [
        "holyday_events.isna().sum()\n",
        "#revisar que no hay nan"
      ],
      "execution_count": null,
      "outputs": [
        {
          "output_type": "execute_result",
          "data": {
            "text/plain": [
              "date           0\n",
              "type           0\n",
              "locale         0\n",
              "locale_name    0\n",
              "description    0\n",
              "transferred    0\n",
              "holyday        0\n",
              "dtype: int64"
            ]
          },
          "metadata": {},
          "execution_count": 17
        }
      ]
    },
    {
      "cell_type": "code",
      "metadata": {
        "colab": {
          "base_uri": "https://localhost:8080/"
        },
        "id": "bYTtuBwYqKIJ",
        "outputId": "2e1429ad-858e-461c-eeb3-9880f42a2bc6"
      },
      "source": [
        "print(holyday_events.dtypes)"
      ],
      "execution_count": null,
      "outputs": [
        {
          "output_type": "stream",
          "name": "stdout",
          "text": [
            "date            object\n",
            "type            object\n",
            "locale          object\n",
            "locale_name     object\n",
            "description     object\n",
            "transferred       bool\n",
            "holyday        float64\n",
            "dtype: object\n"
          ]
        }
      ]
    },
    {
      "cell_type": "code",
      "metadata": {
        "colab": {
          "base_uri": "https://localhost:8080/",
          "height": 204
        },
        "id": "diZajr2eDoeN",
        "outputId": "ea0f2686-6bef-451f-eea4-b6e2893e5681"
      },
      "source": [
        "holyday_events.loc[holyday_events['type'] ==\"Event\", 'Event'] = 1\n",
        "holyday_events[\"Event\"]=holyday_events[\"Event\"].fillna(0)\n",
        "holyday_events.tail(5)"
      ],
      "execution_count": null,
      "outputs": [
        {
          "output_type": "execute_result",
          "data": {
            "text/html": [
              "<div>\n",
              "<style scoped>\n",
              "    .dataframe tbody tr th:only-of-type {\n",
              "        vertical-align: middle;\n",
              "    }\n",
              "\n",
              "    .dataframe tbody tr th {\n",
              "        vertical-align: top;\n",
              "    }\n",
              "\n",
              "    .dataframe thead th {\n",
              "        text-align: right;\n",
              "    }\n",
              "</style>\n",
              "<table border=\"1\" class=\"dataframe\">\n",
              "  <thead>\n",
              "    <tr style=\"text-align: right;\">\n",
              "      <th></th>\n",
              "      <th>date</th>\n",
              "      <th>type</th>\n",
              "      <th>locale</th>\n",
              "      <th>locale_name</th>\n",
              "      <th>description</th>\n",
              "      <th>transferred</th>\n",
              "      <th>holyday</th>\n",
              "      <th>Event</th>\n",
              "    </tr>\n",
              "  </thead>\n",
              "  <tbody>\n",
              "    <tr>\n",
              "      <th>369</th>\n",
              "      <td>2014-01-07</td>\n",
              "      <td>Event</td>\n",
              "      <td>National</td>\n",
              "      <td>Ecuador</td>\n",
              "      <td>dia de reyes</td>\n",
              "      <td>False</td>\n",
              "      <td>0.0</td>\n",
              "      <td>1.0</td>\n",
              "    </tr>\n",
              "    <tr>\n",
              "      <th>370</th>\n",
              "      <td>2015-01-08</td>\n",
              "      <td>Event</td>\n",
              "      <td>National</td>\n",
              "      <td>Ecuador</td>\n",
              "      <td>dia de reyes</td>\n",
              "      <td>False</td>\n",
              "      <td>0.0</td>\n",
              "      <td>1.0</td>\n",
              "    </tr>\n",
              "    <tr>\n",
              "      <th>371</th>\n",
              "      <td>2016-01-09</td>\n",
              "      <td>Event</td>\n",
              "      <td>National</td>\n",
              "      <td>Ecuador</td>\n",
              "      <td>dia de reyes</td>\n",
              "      <td>False</td>\n",
              "      <td>0.0</td>\n",
              "      <td>1.0</td>\n",
              "    </tr>\n",
              "    <tr>\n",
              "      <th>372</th>\n",
              "      <td>2017-01-10</td>\n",
              "      <td>Event</td>\n",
              "      <td>National</td>\n",
              "      <td>Ecuador</td>\n",
              "      <td>dia de reyes</td>\n",
              "      <td>False</td>\n",
              "      <td>0.0</td>\n",
              "      <td>1.0</td>\n",
              "    </tr>\n",
              "    <tr>\n",
              "      <th>373</th>\n",
              "      <td>2018-01-11</td>\n",
              "      <td>Event</td>\n",
              "      <td>National</td>\n",
              "      <td>Ecuador</td>\n",
              "      <td>dia de reyes</td>\n",
              "      <td>False</td>\n",
              "      <td>0.0</td>\n",
              "      <td>1.0</td>\n",
              "    </tr>\n",
              "  </tbody>\n",
              "</table>\n",
              "</div>"
            ],
            "text/plain": [
              "           date   type    locale  ... transferred holyday  Event\n",
              "369  2014-01-07  Event  National  ...       False     0.0    1.0\n",
              "370  2015-01-08  Event  National  ...       False     0.0    1.0\n",
              "371  2016-01-09  Event  National  ...       False     0.0    1.0\n",
              "372  2017-01-10  Event  National  ...       False     0.0    1.0\n",
              "373  2018-01-11  Event  National  ...       False     0.0    1.0\n",
              "\n",
              "[5 rows x 8 columns]"
            ]
          },
          "metadata": {},
          "execution_count": 19
        }
      ]
    },
    {
      "cell_type": "code",
      "metadata": {
        "id": "bgkp8wKJqmmt"
      },
      "source": [
        "#ahora hay que determinar familias de feriados, o feriados largos, para eso la col date se debe transformar a fecha , además se creara un calendario al cual se le agregara la info del df holyday events\n",
        "holyday_events['date'] = pd.to_datetime(holyday_events['date'])"
      ],
      "execution_count": null,
      "outputs": []
    },
    {
      "cell_type": "code",
      "metadata": {
        "id": "rQ_S3j23rI76",
        "colab": {
          "base_uri": "https://localhost:8080/"
        },
        "outputId": "5c71040b-95da-4cf2-bbe6-8b076bb58fcc"
      },
      "source": [
        "print(holyday_events.dtypes)"
      ],
      "execution_count": null,
      "outputs": [
        {
          "output_type": "stream",
          "name": "stdout",
          "text": [
            "date           datetime64[ns]\n",
            "type                   object\n",
            "locale                 object\n",
            "locale_name            object\n",
            "description            object\n",
            "transferred              bool\n",
            "holyday               float64\n",
            "Event                 float64\n",
            "dtype: object\n"
          ]
        }
      ]
    },
    {
      "cell_type": "markdown",
      "metadata": {
        "id": "CeA5hn5cG17k"
      },
      "source": [
        "hay que usar dos data set, uno de ecuador y uno de la zona en particular, todos estáran asociados a ecuador y a SU zona\n",
        "\n",
        "Luego cada transacción tendra col asociadas a zona y a ecuador\n",
        "para zona se debe generar un identificador día-zona, ecuador va para todos por lo que no necesita un identificador adicional"
      ]
    },
    {
      "cell_type": "code",
      "metadata": {
        "colab": {
          "base_uri": "https://localhost:8080/",
          "height": 142
        },
        "id": "Sl3yQ6eoGTF9",
        "outputId": "480aea44-527c-430a-dda4-202baa3bf68e"
      },
      "source": [
        "holy_region=holyday_events.drop(holyday_events.index[holyday_events[\"locale_name\"]==\"Ecuador\"])\n",
        "holy_region.head(3)"
      ],
      "execution_count": null,
      "outputs": [
        {
          "output_type": "execute_result",
          "data": {
            "text/html": [
              "<div>\n",
              "<style scoped>\n",
              "    .dataframe tbody tr th:only-of-type {\n",
              "        vertical-align: middle;\n",
              "    }\n",
              "\n",
              "    .dataframe tbody tr th {\n",
              "        vertical-align: top;\n",
              "    }\n",
              "\n",
              "    .dataframe thead th {\n",
              "        text-align: right;\n",
              "    }\n",
              "</style>\n",
              "<table border=\"1\" class=\"dataframe\">\n",
              "  <thead>\n",
              "    <tr style=\"text-align: right;\">\n",
              "      <th></th>\n",
              "      <th>date</th>\n",
              "      <th>type</th>\n",
              "      <th>locale</th>\n",
              "      <th>locale_name</th>\n",
              "      <th>description</th>\n",
              "      <th>transferred</th>\n",
              "      <th>holyday</th>\n",
              "      <th>Event</th>\n",
              "    </tr>\n",
              "  </thead>\n",
              "  <tbody>\n",
              "    <tr>\n",
              "      <th>0</th>\n",
              "      <td>2012-03-02</td>\n",
              "      <td>Holiday</td>\n",
              "      <td>Local</td>\n",
              "      <td>Manta</td>\n",
              "      <td>Fundacion de Manta</td>\n",
              "      <td>False</td>\n",
              "      <td>1.0</td>\n",
              "      <td>0.0</td>\n",
              "    </tr>\n",
              "    <tr>\n",
              "      <th>1</th>\n",
              "      <td>2012-04-01</td>\n",
              "      <td>Holiday</td>\n",
              "      <td>Regional</td>\n",
              "      <td>Cotopaxi</td>\n",
              "      <td>Provincializacion de Cotopaxi</td>\n",
              "      <td>False</td>\n",
              "      <td>1.0</td>\n",
              "      <td>0.0</td>\n",
              "    </tr>\n",
              "    <tr>\n",
              "      <th>2</th>\n",
              "      <td>2012-04-12</td>\n",
              "      <td>Holiday</td>\n",
              "      <td>Local</td>\n",
              "      <td>Cuenca</td>\n",
              "      <td>Fundacion de Cuenca</td>\n",
              "      <td>False</td>\n",
              "      <td>1.0</td>\n",
              "      <td>0.0</td>\n",
              "    </tr>\n",
              "  </tbody>\n",
              "</table>\n",
              "</div>"
            ],
            "text/plain": [
              "        date     type    locale  ... transferred holyday  Event\n",
              "0 2012-03-02  Holiday     Local  ...       False     1.0    0.0\n",
              "1 2012-04-01  Holiday  Regional  ...       False     1.0    0.0\n",
              "2 2012-04-12  Holiday     Local  ...       False     1.0    0.0\n",
              "\n",
              "[3 rows x 8 columns]"
            ]
          },
          "metadata": {},
          "execution_count": 22
        }
      ]
    },
    {
      "cell_type": "code",
      "metadata": {
        "colab": {
          "base_uri": "https://localhost:8080/",
          "height": 49
        },
        "id": "lPGNk8P2KSpD",
        "outputId": "164f8100-defe-46a2-9747-a5209295c4ba"
      },
      "source": [
        "events_region=holy_region[holy_region['type'] == \"Event\"].copy(deep=True)\n",
        "holy_region=holy_region.drop(holy_region.index[holy_region[\"type\"]==\"Event\"])\n",
        "\n",
        "events_region.head(3)"
      ],
      "execution_count": null,
      "outputs": [
        {
          "output_type": "execute_result",
          "data": {
            "text/html": [
              "<div>\n",
              "<style scoped>\n",
              "    .dataframe tbody tr th:only-of-type {\n",
              "        vertical-align: middle;\n",
              "    }\n",
              "\n",
              "    .dataframe tbody tr th {\n",
              "        vertical-align: top;\n",
              "    }\n",
              "\n",
              "    .dataframe thead th {\n",
              "        text-align: right;\n",
              "    }\n",
              "</style>\n",
              "<table border=\"1\" class=\"dataframe\">\n",
              "  <thead>\n",
              "    <tr style=\"text-align: right;\">\n",
              "      <th></th>\n",
              "      <th>date</th>\n",
              "      <th>type</th>\n",
              "      <th>locale</th>\n",
              "      <th>locale_name</th>\n",
              "      <th>description</th>\n",
              "      <th>transferred</th>\n",
              "      <th>holyday</th>\n",
              "      <th>Event</th>\n",
              "    </tr>\n",
              "  </thead>\n",
              "  <tbody>\n",
              "  </tbody>\n",
              "</table>\n",
              "</div>"
            ],
            "text/plain": [
              "Empty DataFrame\n",
              "Columns: [date, type, locale, locale_name, description, transferred, holyday, Event]\n",
              "Index: []"
            ]
          },
          "metadata": {},
          "execution_count": 23
        }
      ]
    },
    {
      "cell_type": "code",
      "metadata": {
        "colab": {
          "base_uri": "https://localhost:8080/"
        },
        "id": "nh0PmqyqJPKi",
        "outputId": "73fdda4e-b024-45b0-9b16-f778778e6452"
      },
      "source": [
        "holy_region['date'].duplicated().sum()"
      ],
      "execution_count": null,
      "outputs": [
        {
          "output_type": "execute_result",
          "data": {
            "text/plain": [
              "20"
            ]
          },
          "metadata": {},
          "execution_count": 24
        }
      ]
    },
    {
      "cell_type": "code",
      "metadata": {
        "colab": {
          "base_uri": "https://localhost:8080/",
          "height": 142
        },
        "id": "hgRHK2wRGTJl",
        "outputId": "008c532c-5150-49ee-fdec-f7c03737d51d"
      },
      "source": [
        "holy_ecuador=holyday_events[holyday_events['locale_name'] == \"Ecuador\"]\n",
        "holy_ecuador.head(3)"
      ],
      "execution_count": null,
      "outputs": [
        {
          "output_type": "execute_result",
          "data": {
            "text/html": [
              "<div>\n",
              "<style scoped>\n",
              "    .dataframe tbody tr th:only-of-type {\n",
              "        vertical-align: middle;\n",
              "    }\n",
              "\n",
              "    .dataframe tbody tr th {\n",
              "        vertical-align: top;\n",
              "    }\n",
              "\n",
              "    .dataframe thead th {\n",
              "        text-align: right;\n",
              "    }\n",
              "</style>\n",
              "<table border=\"1\" class=\"dataframe\">\n",
              "  <thead>\n",
              "    <tr style=\"text-align: right;\">\n",
              "      <th></th>\n",
              "      <th>date</th>\n",
              "      <th>type</th>\n",
              "      <th>locale</th>\n",
              "      <th>locale_name</th>\n",
              "      <th>description</th>\n",
              "      <th>transferred</th>\n",
              "      <th>holyday</th>\n",
              "      <th>Event</th>\n",
              "    </tr>\n",
              "  </thead>\n",
              "  <tbody>\n",
              "    <tr>\n",
              "      <th>14</th>\n",
              "      <td>2012-08-10</td>\n",
              "      <td>Holiday</td>\n",
              "      <td>National</td>\n",
              "      <td>Ecuador</td>\n",
              "      <td>Primer Grito de Independencia</td>\n",
              "      <td>False</td>\n",
              "      <td>1.0</td>\n",
              "      <td>0.0</td>\n",
              "    </tr>\n",
              "    <tr>\n",
              "      <th>19</th>\n",
              "      <td>2012-10-09</td>\n",
              "      <td>Holiday</td>\n",
              "      <td>National</td>\n",
              "      <td>Ecuador</td>\n",
              "      <td>Independencia de Guayaquil</td>\n",
              "      <td>True</td>\n",
              "      <td>0.0</td>\n",
              "      <td>0.0</td>\n",
              "    </tr>\n",
              "    <tr>\n",
              "      <th>20</th>\n",
              "      <td>2012-10-12</td>\n",
              "      <td>Transfer</td>\n",
              "      <td>National</td>\n",
              "      <td>Ecuador</td>\n",
              "      <td>Traslado Independencia de Guayaquil</td>\n",
              "      <td>False</td>\n",
              "      <td>1.0</td>\n",
              "      <td>0.0</td>\n",
              "    </tr>\n",
              "  </tbody>\n",
              "</table>\n",
              "</div>"
            ],
            "text/plain": [
              "         date      type    locale  ... transferred holyday  Event\n",
              "14 2012-08-10   Holiday  National  ...       False     1.0    0.0\n",
              "19 2012-10-09   Holiday  National  ...        True     0.0    0.0\n",
              "20 2012-10-12  Transfer  National  ...       False     1.0    0.0\n",
              "\n",
              "[3 rows x 8 columns]"
            ]
          },
          "metadata": {},
          "execution_count": 25
        }
      ]
    },
    {
      "cell_type": "code",
      "metadata": {
        "colab": {
          "base_uri": "https://localhost:8080/",
          "height": 142
        },
        "id": "W6Jm8QHlJivM",
        "outputId": "4ea8c14e-df30-4bda-b340-b7b9f25a5bf5"
      },
      "source": [
        "events_ecuador=holy_ecuador[holy_ecuador['type'] == \"Event\"].copy(deep=True)\n",
        "holy_ecuador=holy_ecuador.drop(holy_ecuador.index[holy_ecuador[\"type\"]==\"Event\"])\n",
        "\n",
        "events_ecuador.head(3)"
      ],
      "execution_count": null,
      "outputs": [
        {
          "output_type": "execute_result",
          "data": {
            "text/html": [
              "<div>\n",
              "<style scoped>\n",
              "    .dataframe tbody tr th:only-of-type {\n",
              "        vertical-align: middle;\n",
              "    }\n",
              "\n",
              "    .dataframe tbody tr th {\n",
              "        vertical-align: top;\n",
              "    }\n",
              "\n",
              "    .dataframe thead th {\n",
              "        text-align: right;\n",
              "    }\n",
              "</style>\n",
              "<table border=\"1\" class=\"dataframe\">\n",
              "  <thead>\n",
              "    <tr style=\"text-align: right;\">\n",
              "      <th></th>\n",
              "      <th>date</th>\n",
              "      <th>type</th>\n",
              "      <th>locale</th>\n",
              "      <th>locale_name</th>\n",
              "      <th>description</th>\n",
              "      <th>transferred</th>\n",
              "      <th>holyday</th>\n",
              "      <th>Event</th>\n",
              "    </tr>\n",
              "  </thead>\n",
              "  <tbody>\n",
              "    <tr>\n",
              "      <th>55</th>\n",
              "      <td>2013-05-12</td>\n",
              "      <td>Event</td>\n",
              "      <td>National</td>\n",
              "      <td>Ecuador</td>\n",
              "      <td>Dia de la Madre</td>\n",
              "      <td>False</td>\n",
              "      <td>0.0</td>\n",
              "      <td>1.0</td>\n",
              "    </tr>\n",
              "    <tr>\n",
              "      <th>103</th>\n",
              "      <td>2014-05-11</td>\n",
              "      <td>Event</td>\n",
              "      <td>National</td>\n",
              "      <td>Ecuador</td>\n",
              "      <td>Dia de la Madre</td>\n",
              "      <td>False</td>\n",
              "      <td>0.0</td>\n",
              "      <td>1.0</td>\n",
              "    </tr>\n",
              "    <tr>\n",
              "      <th>106</th>\n",
              "      <td>2014-06-12</td>\n",
              "      <td>Event</td>\n",
              "      <td>National</td>\n",
              "      <td>Ecuador</td>\n",
              "      <td>Inauguracion Mundial de futbol Brasil</td>\n",
              "      <td>False</td>\n",
              "      <td>0.0</td>\n",
              "      <td>1.0</td>\n",
              "    </tr>\n",
              "  </tbody>\n",
              "</table>\n",
              "</div>"
            ],
            "text/plain": [
              "          date   type    locale  ... transferred holyday  Event\n",
              "55  2013-05-12  Event  National  ...       False     0.0    1.0\n",
              "103 2014-05-11  Event  National  ...       False     0.0    1.0\n",
              "106 2014-06-12  Event  National  ...       False     0.0    1.0\n",
              "\n",
              "[3 rows x 8 columns]"
            ]
          },
          "metadata": {},
          "execution_count": 26
        }
      ]
    },
    {
      "cell_type": "code",
      "metadata": {
        "colab": {
          "base_uri": "https://localhost:8080/"
        },
        "id": "-_Nll6RmGTMo",
        "outputId": "31e08c25-68f2-4d0b-d2cc-c39bea228118"
      },
      "source": [
        "holy_ecuador['date'].duplicated().sum()"
      ],
      "execution_count": null,
      "outputs": [
        {
          "output_type": "execute_result",
          "data": {
            "text/plain": [
              "3"
            ]
          },
          "metadata": {},
          "execution_count": 27
        }
      ]
    },
    {
      "cell_type": "code",
      "metadata": {
        "colab": {
          "base_uri": "https://localhost:8080/",
          "height": 235
        },
        "id": "b32z_geiGTQl",
        "outputId": "c3cfb2cb-4ddf-4f0f-8212-38d4843afc61"
      },
      "source": [
        "holy_ecuador[holy_ecuador.duplicated(['date'], keep=False)]"
      ],
      "execution_count": null,
      "outputs": [
        {
          "output_type": "execute_result",
          "data": {
            "text/html": [
              "<div>\n",
              "<style scoped>\n",
              "    .dataframe tbody tr th:only-of-type {\n",
              "        vertical-align: middle;\n",
              "    }\n",
              "\n",
              "    .dataframe tbody tr th {\n",
              "        vertical-align: top;\n",
              "    }\n",
              "\n",
              "    .dataframe thead th {\n",
              "        text-align: right;\n",
              "    }\n",
              "</style>\n",
              "<table border=\"1\" class=\"dataframe\">\n",
              "  <thead>\n",
              "    <tr style=\"text-align: right;\">\n",
              "      <th></th>\n",
              "      <th>date</th>\n",
              "      <th>type</th>\n",
              "      <th>locale</th>\n",
              "      <th>locale_name</th>\n",
              "      <th>description</th>\n",
              "      <th>transferred</th>\n",
              "      <th>holyday</th>\n",
              "      <th>Event</th>\n",
              "    </tr>\n",
              "  </thead>\n",
              "  <tbody>\n",
              "    <tr>\n",
              "      <th>35</th>\n",
              "      <td>2012-12-24</td>\n",
              "      <td>Bridge</td>\n",
              "      <td>National</td>\n",
              "      <td>Ecuador</td>\n",
              "      <td>Puente Navidad</td>\n",
              "      <td>False</td>\n",
              "      <td>1.0</td>\n",
              "      <td>0.0</td>\n",
              "    </tr>\n",
              "    <tr>\n",
              "      <th>36</th>\n",
              "      <td>2012-12-24</td>\n",
              "      <td>Additional</td>\n",
              "      <td>National</td>\n",
              "      <td>Ecuador</td>\n",
              "      <td>Navidad-1</td>\n",
              "      <td>False</td>\n",
              "      <td>1.0</td>\n",
              "      <td>0.0</td>\n",
              "    </tr>\n",
              "    <tr>\n",
              "      <th>39</th>\n",
              "      <td>2012-12-31</td>\n",
              "      <td>Bridge</td>\n",
              "      <td>National</td>\n",
              "      <td>Ecuador</td>\n",
              "      <td>Puente Primer dia del ano</td>\n",
              "      <td>False</td>\n",
              "      <td>1.0</td>\n",
              "      <td>0.0</td>\n",
              "    </tr>\n",
              "    <tr>\n",
              "      <th>40</th>\n",
              "      <td>2012-12-31</td>\n",
              "      <td>Additional</td>\n",
              "      <td>National</td>\n",
              "      <td>Ecuador</td>\n",
              "      <td>Primer dia del ano-1</td>\n",
              "      <td>False</td>\n",
              "      <td>1.0</td>\n",
              "      <td>0.0</td>\n",
              "    </tr>\n",
              "    <tr>\n",
              "      <th>156</th>\n",
              "      <td>2014-12-26</td>\n",
              "      <td>Bridge</td>\n",
              "      <td>National</td>\n",
              "      <td>Ecuador</td>\n",
              "      <td>Puente Navidad</td>\n",
              "      <td>False</td>\n",
              "      <td>1.0</td>\n",
              "      <td>0.0</td>\n",
              "    </tr>\n",
              "    <tr>\n",
              "      <th>157</th>\n",
              "      <td>2014-12-26</td>\n",
              "      <td>Additional</td>\n",
              "      <td>National</td>\n",
              "      <td>Ecuador</td>\n",
              "      <td>Navidad+1</td>\n",
              "      <td>False</td>\n",
              "      <td>1.0</td>\n",
              "      <td>0.0</td>\n",
              "    </tr>\n",
              "  </tbody>\n",
              "</table>\n",
              "</div>"
            ],
            "text/plain": [
              "          date        type    locale  ... transferred holyday  Event\n",
              "35  2012-12-24      Bridge  National  ...       False     1.0    0.0\n",
              "36  2012-12-24  Additional  National  ...       False     1.0    0.0\n",
              "39  2012-12-31      Bridge  National  ...       False     1.0    0.0\n",
              "40  2012-12-31  Additional  National  ...       False     1.0    0.0\n",
              "156 2014-12-26      Bridge  National  ...       False     1.0    0.0\n",
              "157 2014-12-26  Additional  National  ...       False     1.0    0.0\n",
              "\n",
              "[6 rows x 8 columns]"
            ]
          },
          "metadata": {},
          "execution_count": 28
        }
      ]
    },
    {
      "cell_type": "code",
      "metadata": {
        "colab": {
          "base_uri": "https://localhost:8080/"
        },
        "id": "w-wt3J1eGTVA",
        "outputId": "d172ee76-98be-4585-e2d6-7efd71a6c54f"
      },
      "source": [
        "holy_ecuador.drop_duplicates(subset=\"date\", keep='first', inplace=True)\n",
        "holy_ecuador['date'].duplicated().sum()"
      ],
      "execution_count": null,
      "outputs": [
        {
          "output_type": "execute_result",
          "data": {
            "text/plain": [
              "0"
            ]
          },
          "metadata": {},
          "execution_count": 29
        }
      ]
    },
    {
      "cell_type": "code",
      "metadata": {
        "colab": {
          "base_uri": "https://localhost:8080/"
        },
        "id": "7wEvQxcuGTXl",
        "outputId": "3c12e493-4fb6-4462-91d4-cd875482c4e4"
      },
      "source": [
        "events_ecuador['date'].duplicated().sum()"
      ],
      "execution_count": null,
      "outputs": [
        {
          "output_type": "execute_result",
          "data": {
            "text/plain": [
              "2"
            ]
          },
          "metadata": {},
          "execution_count": 30
        }
      ]
    },
    {
      "cell_type": "code",
      "metadata": {
        "id": "uaesK2zEGTaA",
        "colab": {
          "base_uri": "https://localhost:8080/",
          "height": 173
        },
        "outputId": "1f4249ee-bc7d-45ff-a031-55e362d2c3ce"
      },
      "source": [
        "events_ecuador[events_ecuador.duplicated(['date'], keep=False)]"
      ],
      "execution_count": null,
      "outputs": [
        {
          "output_type": "execute_result",
          "data": {
            "text/html": [
              "<div>\n",
              "<style scoped>\n",
              "    .dataframe tbody tr th:only-of-type {\n",
              "        vertical-align: middle;\n",
              "    }\n",
              "\n",
              "    .dataframe tbody tr th {\n",
              "        vertical-align: top;\n",
              "    }\n",
              "\n",
              "    .dataframe thead th {\n",
              "        text-align: right;\n",
              "    }\n",
              "</style>\n",
              "<table border=\"1\" class=\"dataframe\">\n",
              "  <thead>\n",
              "    <tr style=\"text-align: right;\">\n",
              "      <th></th>\n",
              "      <th>date</th>\n",
              "      <th>type</th>\n",
              "      <th>locale</th>\n",
              "      <th>locale_name</th>\n",
              "      <th>description</th>\n",
              "      <th>transferred</th>\n",
              "      <th>holyday</th>\n",
              "      <th>Event</th>\n",
              "    </tr>\n",
              "  </thead>\n",
              "  <tbody>\n",
              "    <tr>\n",
              "      <th>107</th>\n",
              "      <td>2014-06-15</td>\n",
              "      <td>Event</td>\n",
              "      <td>National</td>\n",
              "      <td>Ecuador</td>\n",
              "      <td>Mundial de futbol Brasil: Ecuador-Suiza</td>\n",
              "      <td>False</td>\n",
              "      <td>0.0</td>\n",
              "      <td>1.0</td>\n",
              "    </tr>\n",
              "    <tr>\n",
              "      <th>244</th>\n",
              "      <td>2016-05-08</td>\n",
              "      <td>Event</td>\n",
              "      <td>National</td>\n",
              "      <td>Ecuador</td>\n",
              "      <td>Terremoto Manabi+22</td>\n",
              "      <td>False</td>\n",
              "      <td>0.0</td>\n",
              "      <td>1.0</td>\n",
              "    </tr>\n",
              "    <tr>\n",
              "      <th>245</th>\n",
              "      <td>2016-05-08</td>\n",
              "      <td>Event</td>\n",
              "      <td>National</td>\n",
              "      <td>Ecuador</td>\n",
              "      <td>Dia de la Madre</td>\n",
              "      <td>False</td>\n",
              "      <td>0.0</td>\n",
              "      <td>1.0</td>\n",
              "    </tr>\n",
              "    <tr>\n",
              "      <th>351</th>\n",
              "      <td>2014-06-15</td>\n",
              "      <td>Event</td>\n",
              "      <td>National</td>\n",
              "      <td>Ecuador</td>\n",
              "      <td>Dia del padre</td>\n",
              "      <td>False</td>\n",
              "      <td>0.0</td>\n",
              "      <td>1.0</td>\n",
              "    </tr>\n",
              "  </tbody>\n",
              "</table>\n",
              "</div>"
            ],
            "text/plain": [
              "          date   type    locale  ... transferred holyday  Event\n",
              "107 2014-06-15  Event  National  ...       False     0.0    1.0\n",
              "244 2016-05-08  Event  National  ...       False     0.0    1.0\n",
              "245 2016-05-08  Event  National  ...       False     0.0    1.0\n",
              "351 2014-06-15  Event  National  ...       False     0.0    1.0\n",
              "\n",
              "[4 rows x 8 columns]"
            ]
          },
          "metadata": {},
          "execution_count": 31
        }
      ]
    },
    {
      "cell_type": "code",
      "metadata": {
        "id": "9Nts9esmGThL",
        "colab": {
          "base_uri": "https://localhost:8080/"
        },
        "outputId": "39837b54-9fb6-4592-b7ce-e88ce2c466e1"
      },
      "source": [
        "events_ecuador[\"description\"].unique()"
      ],
      "execution_count": null,
      "outputs": [
        {
          "output_type": "execute_result",
          "data": {
            "text/plain": [
              "array(['Dia de la Madre', 'Inauguracion Mundial de futbol Brasil',\n",
              "       'Mundial de futbol Brasil: Ecuador-Suiza',\n",
              "       'Mundial de futbol Brasil: Ecuador-Honduras',\n",
              "       'Mundial de futbol Brasil: Ecuador-Francia',\n",
              "       'Mundial de futbol Brasil: Octavos de Final',\n",
              "       'Mundial de futbol Brasil: Cuartos de Final',\n",
              "       'Mundial de futbol Brasil: Semifinales',\n",
              "       'Mundial de futbol Brasil: Tercer y cuarto lugar',\n",
              "       'Mundial de futbol Brasil: Final', 'Black Friday', 'Cyber Monday',\n",
              "       'Terremoto Manabi', 'Terremoto Manabi+1', 'Terremoto Manabi+2',\n",
              "       'Terremoto Manabi+3', 'Terremoto Manabi+4', 'Terremoto Manabi+5',\n",
              "       'Terremoto Manabi+6', 'Terremoto Manabi+7', 'Terremoto Manabi+8',\n",
              "       'Terremoto Manabi+9', 'Terremoto Manabi+10', 'Terremoto Manabi+11',\n",
              "       'Terremoto Manabi+12', 'Terremoto Manabi+13',\n",
              "       'Terremoto Manabi+14', 'Terremoto Manabi+15',\n",
              "       'Terremoto Manabi+16', 'Terremoto Manabi+17',\n",
              "       'Terremoto Manabi+18', 'Terremoto Manabi+19',\n",
              "       'Terremoto Manabi+20', 'Terremoto Manabi+21',\n",
              "       'Terremoto Manabi+22', 'Terremoto Manabi+23',\n",
              "       'Terremoto Manabi+24', 'Terremoto Manabi+25',\n",
              "       'Terremoto Manabi+26', 'Terremoto Manabi+27',\n",
              "       'Terremoto Manabi+28', 'Terremoto Manabi+29',\n",
              "       'Terremoto Manabi+30', 'Dia del padre', 'Dia del niño',\n",
              "       'dia de san valentin', 'dia de reyes'], dtype=object)"
            ]
          },
          "metadata": {},
          "execution_count": 32
        }
      ]
    },
    {
      "cell_type": "code",
      "metadata": {
        "id": "7mZNLHkWGToB"
      },
      "source": [
        "#dado que faltan eventos se añadiran días del padre, día del niño, san valentin,  y día de los reyes\n"
      ],
      "execution_count": null,
      "outputs": []
    },
    {
      "cell_type": "code",
      "metadata": {
        "id": "sU9agWxAGUAL",
        "colab": {
          "base_uri": "https://localhost:8080/"
        },
        "outputId": "5868771a-9ba2-40d1-e524-591b636696c8"
      },
      "source": [
        "len(holyday_events)"
      ],
      "execution_count": null,
      "outputs": [
        {
          "output_type": "execute_result",
          "data": {
            "text/plain": [
              "369"
            ]
          },
          "metadata": {},
          "execution_count": 34
        }
      ]
    },
    {
      "cell_type": "code",
      "metadata": {
        "id": "BXO2CwaZ8dN8"
      },
      "source": [
        "#dado que hay días con más de un evento, se eliminara el repetido\n",
        "events_ecuador.drop_duplicates(subset=\"date\", keep='first', inplace=True)"
      ],
      "execution_count": null,
      "outputs": []
    },
    {
      "cell_type": "code",
      "metadata": {
        "colab": {
          "base_uri": "https://localhost:8080/",
          "height": 669
        },
        "id": "dVp3zONSB-nW",
        "outputId": "2c7d698c-aea4-4602-b0e4-24d608113e80"
      },
      "source": [
        "holy_region[holy_region.duplicated(['date'], keep='first')]"
      ],
      "execution_count": null,
      "outputs": [
        {
          "output_type": "execute_result",
          "data": {
            "text/html": [
              "<div>\n",
              "<style scoped>\n",
              "    .dataframe tbody tr th:only-of-type {\n",
              "        vertical-align: middle;\n",
              "    }\n",
              "\n",
              "    .dataframe tbody tr th {\n",
              "        vertical-align: top;\n",
              "    }\n",
              "\n",
              "    .dataframe thead th {\n",
              "        text-align: right;\n",
              "    }\n",
              "</style>\n",
              "<table border=\"1\" class=\"dataframe\">\n",
              "  <thead>\n",
              "    <tr style=\"text-align: right;\">\n",
              "      <th></th>\n",
              "      <th>date</th>\n",
              "      <th>type</th>\n",
              "      <th>locale</th>\n",
              "      <th>locale_name</th>\n",
              "      <th>description</th>\n",
              "      <th>transferred</th>\n",
              "      <th>holyday</th>\n",
              "      <th>Event</th>\n",
              "    </tr>\n",
              "  </thead>\n",
              "  <tbody>\n",
              "    <tr>\n",
              "      <th>8</th>\n",
              "      <td>2012-06-25</td>\n",
              "      <td>Holiday</td>\n",
              "      <td>Local</td>\n",
              "      <td>Latacunga</td>\n",
              "      <td>Cantonizacion de Latacunga</td>\n",
              "      <td>False</td>\n",
              "      <td>1.0</td>\n",
              "      <td>0.0</td>\n",
              "    </tr>\n",
              "    <tr>\n",
              "      <th>9</th>\n",
              "      <td>2012-06-25</td>\n",
              "      <td>Holiday</td>\n",
              "      <td>Local</td>\n",
              "      <td>Machala</td>\n",
              "      <td>Fundacion de Machala</td>\n",
              "      <td>False</td>\n",
              "      <td>1.0</td>\n",
              "      <td>0.0</td>\n",
              "    </tr>\n",
              "    <tr>\n",
              "      <th>11</th>\n",
              "      <td>2012-07-03</td>\n",
              "      <td>Holiday</td>\n",
              "      <td>Local</td>\n",
              "      <td>El Carmen</td>\n",
              "      <td>Cantonizacion de El Carmen</td>\n",
              "      <td>False</td>\n",
              "      <td>1.0</td>\n",
              "      <td>0.0</td>\n",
              "    </tr>\n",
              "    <tr>\n",
              "      <th>59</th>\n",
              "      <td>2013-06-25</td>\n",
              "      <td>Holiday</td>\n",
              "      <td>Local</td>\n",
              "      <td>Machala</td>\n",
              "      <td>Fundacion de Machala</td>\n",
              "      <td>False</td>\n",
              "      <td>1.0</td>\n",
              "      <td>0.0</td>\n",
              "    </tr>\n",
              "    <tr>\n",
              "      <th>60</th>\n",
              "      <td>2013-06-25</td>\n",
              "      <td>Holiday</td>\n",
              "      <td>Local</td>\n",
              "      <td>Latacunga</td>\n",
              "      <td>Cantonizacion de Latacunga</td>\n",
              "      <td>False</td>\n",
              "      <td>1.0</td>\n",
              "      <td>0.0</td>\n",
              "    </tr>\n",
              "    <tr>\n",
              "      <th>62</th>\n",
              "      <td>2013-07-03</td>\n",
              "      <td>Holiday</td>\n",
              "      <td>Local</td>\n",
              "      <td>Santo Domingo</td>\n",
              "      <td>Fundacion de Santo Domingo</td>\n",
              "      <td>False</td>\n",
              "      <td>1.0</td>\n",
              "      <td>0.0</td>\n",
              "    </tr>\n",
              "    <tr>\n",
              "      <th>111</th>\n",
              "      <td>2014-06-25</td>\n",
              "      <td>Holiday</td>\n",
              "      <td>Local</td>\n",
              "      <td>Machala</td>\n",
              "      <td>Fundacion de Machala</td>\n",
              "      <td>False</td>\n",
              "      <td>1.0</td>\n",
              "      <td>0.0</td>\n",
              "    </tr>\n",
              "    <tr>\n",
              "      <th>112</th>\n",
              "      <td>2014-06-25</td>\n",
              "      <td>Holiday</td>\n",
              "      <td>Regional</td>\n",
              "      <td>Imbabura</td>\n",
              "      <td>Provincializacion de Imbabura</td>\n",
              "      <td>False</td>\n",
              "      <td>1.0</td>\n",
              "      <td>0.0</td>\n",
              "    </tr>\n",
              "    <tr>\n",
              "      <th>119</th>\n",
              "      <td>2014-07-03</td>\n",
              "      <td>Holiday</td>\n",
              "      <td>Local</td>\n",
              "      <td>Santo Domingo</td>\n",
              "      <td>Fundacion de Santo Domingo</td>\n",
              "      <td>False</td>\n",
              "      <td>1.0</td>\n",
              "      <td>0.0</td>\n",
              "    </tr>\n",
              "    <tr>\n",
              "      <th>177</th>\n",
              "      <td>2015-06-25</td>\n",
              "      <td>Holiday</td>\n",
              "      <td>Regional</td>\n",
              "      <td>Imbabura</td>\n",
              "      <td>Provincializacion de Imbabura</td>\n",
              "      <td>False</td>\n",
              "      <td>1.0</td>\n",
              "      <td>0.0</td>\n",
              "    </tr>\n",
              "    <tr>\n",
              "      <th>178</th>\n",
              "      <td>2015-06-25</td>\n",
              "      <td>Holiday</td>\n",
              "      <td>Local</td>\n",
              "      <td>Latacunga</td>\n",
              "      <td>Cantonizacion de Latacunga</td>\n",
              "      <td>False</td>\n",
              "      <td>1.0</td>\n",
              "      <td>0.0</td>\n",
              "    </tr>\n",
              "    <tr>\n",
              "      <th>180</th>\n",
              "      <td>2015-07-03</td>\n",
              "      <td>Holiday</td>\n",
              "      <td>Local</td>\n",
              "      <td>Santo Domingo</td>\n",
              "      <td>Fundacion de Santo Domingo</td>\n",
              "      <td>False</td>\n",
              "      <td>1.0</td>\n",
              "      <td>0.0</td>\n",
              "    </tr>\n",
              "    <tr>\n",
              "      <th>259</th>\n",
              "      <td>2016-06-25</td>\n",
              "      <td>Holiday</td>\n",
              "      <td>Regional</td>\n",
              "      <td>Imbabura</td>\n",
              "      <td>Provincializacion de Imbabura</td>\n",
              "      <td>False</td>\n",
              "      <td>1.0</td>\n",
              "      <td>0.0</td>\n",
              "    </tr>\n",
              "    <tr>\n",
              "      <th>260</th>\n",
              "      <td>2016-06-25</td>\n",
              "      <td>Holiday</td>\n",
              "      <td>Local</td>\n",
              "      <td>Latacunga</td>\n",
              "      <td>Cantonizacion de Latacunga</td>\n",
              "      <td>False</td>\n",
              "      <td>1.0</td>\n",
              "      <td>0.0</td>\n",
              "    </tr>\n",
              "    <tr>\n",
              "      <th>262</th>\n",
              "      <td>2016-07-03</td>\n",
              "      <td>Holiday</td>\n",
              "      <td>Local</td>\n",
              "      <td>Santo Domingo</td>\n",
              "      <td>Fundacion de Santo Domingo</td>\n",
              "      <td>False</td>\n",
              "      <td>1.0</td>\n",
              "      <td>0.0</td>\n",
              "    </tr>\n",
              "    <tr>\n",
              "      <th>265</th>\n",
              "      <td>2016-07-24</td>\n",
              "      <td>Transfer</td>\n",
              "      <td>Local</td>\n",
              "      <td>Guayaquil</td>\n",
              "      <td>Traslado Fundacion de Guayaquil</td>\n",
              "      <td>False</td>\n",
              "      <td>1.0</td>\n",
              "      <td>0.0</td>\n",
              "    </tr>\n",
              "    <tr>\n",
              "      <th>316</th>\n",
              "      <td>2017-06-25</td>\n",
              "      <td>Holiday</td>\n",
              "      <td>Local</td>\n",
              "      <td>Latacunga</td>\n",
              "      <td>Cantonizacion de Latacunga</td>\n",
              "      <td>False</td>\n",
              "      <td>1.0</td>\n",
              "      <td>0.0</td>\n",
              "    </tr>\n",
              "    <tr>\n",
              "      <th>317</th>\n",
              "      <td>2017-06-25</td>\n",
              "      <td>Holiday</td>\n",
              "      <td>Local</td>\n",
              "      <td>Machala</td>\n",
              "      <td>Fundacion de Machala</td>\n",
              "      <td>False</td>\n",
              "      <td>1.0</td>\n",
              "      <td>0.0</td>\n",
              "    </tr>\n",
              "    <tr>\n",
              "      <th>319</th>\n",
              "      <td>2017-07-03</td>\n",
              "      <td>Holiday</td>\n",
              "      <td>Local</td>\n",
              "      <td>Santo Domingo</td>\n",
              "      <td>Fundacion de Santo Domingo</td>\n",
              "      <td>False</td>\n",
              "      <td>1.0</td>\n",
              "      <td>0.0</td>\n",
              "    </tr>\n",
              "    <tr>\n",
              "      <th>342</th>\n",
              "      <td>2017-12-08</td>\n",
              "      <td>Transfer</td>\n",
              "      <td>Local</td>\n",
              "      <td>Quito</td>\n",
              "      <td>Traslado Fundacion de Quito</td>\n",
              "      <td>False</td>\n",
              "      <td>1.0</td>\n",
              "      <td>0.0</td>\n",
              "    </tr>\n",
              "  </tbody>\n",
              "</table>\n",
              "</div>"
            ],
            "text/plain": [
              "          date      type    locale  ... transferred holyday  Event\n",
              "8   2012-06-25   Holiday     Local  ...       False     1.0    0.0\n",
              "9   2012-06-25   Holiday     Local  ...       False     1.0    0.0\n",
              "11  2012-07-03   Holiday     Local  ...       False     1.0    0.0\n",
              "59  2013-06-25   Holiday     Local  ...       False     1.0    0.0\n",
              "60  2013-06-25   Holiday     Local  ...       False     1.0    0.0\n",
              "62  2013-07-03   Holiday     Local  ...       False     1.0    0.0\n",
              "111 2014-06-25   Holiday     Local  ...       False     1.0    0.0\n",
              "112 2014-06-25   Holiday  Regional  ...       False     1.0    0.0\n",
              "119 2014-07-03   Holiday     Local  ...       False     1.0    0.0\n",
              "177 2015-06-25   Holiday  Regional  ...       False     1.0    0.0\n",
              "178 2015-06-25   Holiday     Local  ...       False     1.0    0.0\n",
              "180 2015-07-03   Holiday     Local  ...       False     1.0    0.0\n",
              "259 2016-06-25   Holiday  Regional  ...       False     1.0    0.0\n",
              "260 2016-06-25   Holiday     Local  ...       False     1.0    0.0\n",
              "262 2016-07-03   Holiday     Local  ...       False     1.0    0.0\n",
              "265 2016-07-24  Transfer     Local  ...       False     1.0    0.0\n",
              "316 2017-06-25   Holiday     Local  ...       False     1.0    0.0\n",
              "317 2017-06-25   Holiday     Local  ...       False     1.0    0.0\n",
              "319 2017-07-03   Holiday     Local  ...       False     1.0    0.0\n",
              "342 2017-12-08  Transfer     Local  ...       False     1.0    0.0\n",
              "\n",
              "[20 rows x 8 columns]"
            ]
          },
          "metadata": {},
          "execution_count": 36
        }
      ]
    },
    {
      "cell_type": "code",
      "metadata": {
        "colab": {
          "base_uri": "https://localhost:8080/"
        },
        "id": "cZehoxjTB-rp",
        "outputId": "d3ea290b-61af-4363-c248-a5de27b7c121"
      },
      "source": [
        "holy_region[\"locale_name\"].unique()"
      ],
      "execution_count": null,
      "outputs": [
        {
          "output_type": "execute_result",
          "data": {
            "text/plain": [
              "array(['Manta', 'Cotopaxi', 'Cuenca', 'Libertad', 'Riobamba', 'Puyo',\n",
              "       'Guaranda', 'Imbabura', 'Latacunga', 'Machala', 'Santo Domingo',\n",
              "       'El Carmen', 'Cayambe', 'Esmeraldas', 'Ambato', 'Ibarra',\n",
              "       'Quevedo', 'Santo Domingo de los Tsachilas', 'Santa Elena',\n",
              "       'Quito', 'Loja', 'Salinas', 'Guayaquil'], dtype=object)"
            ]
          },
          "metadata": {},
          "execution_count": 37
        }
      ]
    },
    {
      "cell_type": "code",
      "metadata": {
        "colab": {
          "base_uri": "https://localhost:8080/",
          "height": 111
        },
        "id": "CLwT8tCPB-wi",
        "outputId": "9e6f7814-a3b9-4878-e7af-fafbf0b598b5"
      },
      "source": [
        "holy_region['date'] = holy_region['date'].astype(str)\n",
        "holy_region[\"d_locale\"]=holy_region[\"date\"] +\"-\"+ holy_region[\"locale_name\"]\n",
        "holy_region.head(2)"
      ],
      "execution_count": null,
      "outputs": [
        {
          "output_type": "execute_result",
          "data": {
            "text/html": [
              "<div>\n",
              "<style scoped>\n",
              "    .dataframe tbody tr th:only-of-type {\n",
              "        vertical-align: middle;\n",
              "    }\n",
              "\n",
              "    .dataframe tbody tr th {\n",
              "        vertical-align: top;\n",
              "    }\n",
              "\n",
              "    .dataframe thead th {\n",
              "        text-align: right;\n",
              "    }\n",
              "</style>\n",
              "<table border=\"1\" class=\"dataframe\">\n",
              "  <thead>\n",
              "    <tr style=\"text-align: right;\">\n",
              "      <th></th>\n",
              "      <th>date</th>\n",
              "      <th>type</th>\n",
              "      <th>locale</th>\n",
              "      <th>locale_name</th>\n",
              "      <th>description</th>\n",
              "      <th>transferred</th>\n",
              "      <th>holyday</th>\n",
              "      <th>Event</th>\n",
              "      <th>d_locale</th>\n",
              "    </tr>\n",
              "  </thead>\n",
              "  <tbody>\n",
              "    <tr>\n",
              "      <th>0</th>\n",
              "      <td>2012-03-02</td>\n",
              "      <td>Holiday</td>\n",
              "      <td>Local</td>\n",
              "      <td>Manta</td>\n",
              "      <td>Fundacion de Manta</td>\n",
              "      <td>False</td>\n",
              "      <td>1.0</td>\n",
              "      <td>0.0</td>\n",
              "      <td>2012-03-02-Manta</td>\n",
              "    </tr>\n",
              "    <tr>\n",
              "      <th>1</th>\n",
              "      <td>2012-04-01</td>\n",
              "      <td>Holiday</td>\n",
              "      <td>Regional</td>\n",
              "      <td>Cotopaxi</td>\n",
              "      <td>Provincializacion de Cotopaxi</td>\n",
              "      <td>False</td>\n",
              "      <td>1.0</td>\n",
              "      <td>0.0</td>\n",
              "      <td>2012-04-01-Cotopaxi</td>\n",
              "    </tr>\n",
              "  </tbody>\n",
              "</table>\n",
              "</div>"
            ],
            "text/plain": [
              "         date     type    locale  ... holyday Event             d_locale\n",
              "0  2012-03-02  Holiday     Local  ...     1.0   0.0     2012-03-02-Manta\n",
              "1  2012-04-01  Holiday  Regional  ...     1.0   0.0  2012-04-01-Cotopaxi\n",
              "\n",
              "[2 rows x 9 columns]"
            ]
          },
          "metadata": {},
          "execution_count": 38
        }
      ]
    },
    {
      "cell_type": "code",
      "metadata": {
        "colab": {
          "base_uri": "https://localhost:8080/",
          "height": 80
        },
        "id": "qfVZCgiPB-56",
        "outputId": "472e66d5-ce02-4c46-db4c-6483175036c1"
      },
      "source": [
        "holy_region[holy_region.duplicated(['d_locale'], keep='first')]"
      ],
      "execution_count": null,
      "outputs": [
        {
          "output_type": "execute_result",
          "data": {
            "text/html": [
              "<div>\n",
              "<style scoped>\n",
              "    .dataframe tbody tr th:only-of-type {\n",
              "        vertical-align: middle;\n",
              "    }\n",
              "\n",
              "    .dataframe tbody tr th {\n",
              "        vertical-align: top;\n",
              "    }\n",
              "\n",
              "    .dataframe thead th {\n",
              "        text-align: right;\n",
              "    }\n",
              "</style>\n",
              "<table border=\"1\" class=\"dataframe\">\n",
              "  <thead>\n",
              "    <tr style=\"text-align: right;\">\n",
              "      <th></th>\n",
              "      <th>date</th>\n",
              "      <th>type</th>\n",
              "      <th>locale</th>\n",
              "      <th>locale_name</th>\n",
              "      <th>description</th>\n",
              "      <th>transferred</th>\n",
              "      <th>holyday</th>\n",
              "      <th>Event</th>\n",
              "      <th>d_locale</th>\n",
              "    </tr>\n",
              "  </thead>\n",
              "  <tbody>\n",
              "    <tr>\n",
              "      <th>265</th>\n",
              "      <td>2016-07-24</td>\n",
              "      <td>Transfer</td>\n",
              "      <td>Local</td>\n",
              "      <td>Guayaquil</td>\n",
              "      <td>Traslado Fundacion de Guayaquil</td>\n",
              "      <td>False</td>\n",
              "      <td>1.0</td>\n",
              "      <td>0.0</td>\n",
              "      <td>2016-07-24-Guayaquil</td>\n",
              "    </tr>\n",
              "  </tbody>\n",
              "</table>\n",
              "</div>"
            ],
            "text/plain": [
              "           date      type locale  ... holyday Event              d_locale\n",
              "265  2016-07-24  Transfer  Local  ...     1.0   0.0  2016-07-24-Guayaquil\n",
              "\n",
              "[1 rows x 9 columns]"
            ]
          },
          "metadata": {},
          "execution_count": 39
        }
      ]
    },
    {
      "cell_type": "code",
      "metadata": {
        "colab": {
          "base_uri": "https://localhost:8080/",
          "height": 390
        },
        "id": "_muOX7oJB_A0",
        "outputId": "c33b5d9d-a1cf-44b5-fa01-c8d1d1330a60"
      },
      "source": [
        "holy_region.loc[holy_region['locale_name'] == \"Guayaquil\"]"
      ],
      "execution_count": null,
      "outputs": [
        {
          "output_type": "execute_result",
          "data": {
            "text/html": [
              "<div>\n",
              "<style scoped>\n",
              "    .dataframe tbody tr th:only-of-type {\n",
              "        vertical-align: middle;\n",
              "    }\n",
              "\n",
              "    .dataframe tbody tr th {\n",
              "        vertical-align: top;\n",
              "    }\n",
              "\n",
              "    .dataframe thead th {\n",
              "        text-align: right;\n",
              "    }\n",
              "</style>\n",
              "<table border=\"1\" class=\"dataframe\">\n",
              "  <thead>\n",
              "    <tr style=\"text-align: right;\">\n",
              "      <th></th>\n",
              "      <th>date</th>\n",
              "      <th>type</th>\n",
              "      <th>locale</th>\n",
              "      <th>locale_name</th>\n",
              "      <th>description</th>\n",
              "      <th>transferred</th>\n",
              "      <th>holyday</th>\n",
              "      <th>Event</th>\n",
              "      <th>d_locale</th>\n",
              "    </tr>\n",
              "  </thead>\n",
              "  <tbody>\n",
              "    <tr>\n",
              "      <th>64</th>\n",
              "      <td>2013-07-24</td>\n",
              "      <td>Additional</td>\n",
              "      <td>Local</td>\n",
              "      <td>Guayaquil</td>\n",
              "      <td>Fundacion de Guayaquil-1</td>\n",
              "      <td>False</td>\n",
              "      <td>1.0</td>\n",
              "      <td>0.0</td>\n",
              "      <td>2013-07-24-Guayaquil</td>\n",
              "    </tr>\n",
              "    <tr>\n",
              "      <th>65</th>\n",
              "      <td>2013-07-25</td>\n",
              "      <td>Holiday</td>\n",
              "      <td>Local</td>\n",
              "      <td>Guayaquil</td>\n",
              "      <td>Fundacion de Guayaquil</td>\n",
              "      <td>False</td>\n",
              "      <td>1.0</td>\n",
              "      <td>0.0</td>\n",
              "      <td>2013-07-25-Guayaquil</td>\n",
              "    </tr>\n",
              "    <tr>\n",
              "      <th>127</th>\n",
              "      <td>2014-07-24</td>\n",
              "      <td>Additional</td>\n",
              "      <td>Local</td>\n",
              "      <td>Guayaquil</td>\n",
              "      <td>Fundacion de Guayaquil-1</td>\n",
              "      <td>False</td>\n",
              "      <td>1.0</td>\n",
              "      <td>0.0</td>\n",
              "      <td>2014-07-24-Guayaquil</td>\n",
              "    </tr>\n",
              "    <tr>\n",
              "      <th>128</th>\n",
              "      <td>2014-07-25</td>\n",
              "      <td>Holiday</td>\n",
              "      <td>Local</td>\n",
              "      <td>Guayaquil</td>\n",
              "      <td>Fundacion de Guayaquil</td>\n",
              "      <td>False</td>\n",
              "      <td>1.0</td>\n",
              "      <td>0.0</td>\n",
              "      <td>2014-07-25-Guayaquil</td>\n",
              "    </tr>\n",
              "    <tr>\n",
              "      <th>182</th>\n",
              "      <td>2015-07-24</td>\n",
              "      <td>Holiday</td>\n",
              "      <td>Local</td>\n",
              "      <td>Guayaquil</td>\n",
              "      <td>Fundacion de Guayaquil-1</td>\n",
              "      <td>False</td>\n",
              "      <td>1.0</td>\n",
              "      <td>0.0</td>\n",
              "      <td>2015-07-24-Guayaquil</td>\n",
              "    </tr>\n",
              "    <tr>\n",
              "      <th>183</th>\n",
              "      <td>2015-07-25</td>\n",
              "      <td>Holiday</td>\n",
              "      <td>Local</td>\n",
              "      <td>Guayaquil</td>\n",
              "      <td>Fundacion de Guayaquil</td>\n",
              "      <td>False</td>\n",
              "      <td>1.0</td>\n",
              "      <td>0.0</td>\n",
              "      <td>2015-07-25-Guayaquil</td>\n",
              "    </tr>\n",
              "    <tr>\n",
              "      <th>264</th>\n",
              "      <td>2016-07-24</td>\n",
              "      <td>Additional</td>\n",
              "      <td>Local</td>\n",
              "      <td>Guayaquil</td>\n",
              "      <td>Fundacion de Guayaquil-1</td>\n",
              "      <td>False</td>\n",
              "      <td>1.0</td>\n",
              "      <td>0.0</td>\n",
              "      <td>2016-07-24-Guayaquil</td>\n",
              "    </tr>\n",
              "    <tr>\n",
              "      <th>265</th>\n",
              "      <td>2016-07-24</td>\n",
              "      <td>Transfer</td>\n",
              "      <td>Local</td>\n",
              "      <td>Guayaquil</td>\n",
              "      <td>Traslado Fundacion de Guayaquil</td>\n",
              "      <td>False</td>\n",
              "      <td>1.0</td>\n",
              "      <td>0.0</td>\n",
              "      <td>2016-07-24-Guayaquil</td>\n",
              "    </tr>\n",
              "    <tr>\n",
              "      <th>266</th>\n",
              "      <td>2016-07-25</td>\n",
              "      <td>Holiday</td>\n",
              "      <td>Local</td>\n",
              "      <td>Guayaquil</td>\n",
              "      <td>Fundacion de Guayaquil</td>\n",
              "      <td>True</td>\n",
              "      <td>0.0</td>\n",
              "      <td>0.0</td>\n",
              "      <td>2016-07-25-Guayaquil</td>\n",
              "    </tr>\n",
              "    <tr>\n",
              "      <th>321</th>\n",
              "      <td>2017-07-24</td>\n",
              "      <td>Additional</td>\n",
              "      <td>Local</td>\n",
              "      <td>Guayaquil</td>\n",
              "      <td>Fundacion de Guayaquil-1</td>\n",
              "      <td>False</td>\n",
              "      <td>1.0</td>\n",
              "      <td>0.0</td>\n",
              "      <td>2017-07-24-Guayaquil</td>\n",
              "    </tr>\n",
              "    <tr>\n",
              "      <th>322</th>\n",
              "      <td>2017-07-25</td>\n",
              "      <td>Additional</td>\n",
              "      <td>Local</td>\n",
              "      <td>Guayaquil</td>\n",
              "      <td>Fundacion de Guayaquil</td>\n",
              "      <td>False</td>\n",
              "      <td>1.0</td>\n",
              "      <td>0.0</td>\n",
              "      <td>2017-07-25-Guayaquil</td>\n",
              "    </tr>\n",
              "  </tbody>\n",
              "</table>\n",
              "</div>"
            ],
            "text/plain": [
              "           date        type locale  ... holyday Event              d_locale\n",
              "64   2013-07-24  Additional  Local  ...     1.0   0.0  2013-07-24-Guayaquil\n",
              "65   2013-07-25     Holiday  Local  ...     1.0   0.0  2013-07-25-Guayaquil\n",
              "127  2014-07-24  Additional  Local  ...     1.0   0.0  2014-07-24-Guayaquil\n",
              "128  2014-07-25     Holiday  Local  ...     1.0   0.0  2014-07-25-Guayaquil\n",
              "182  2015-07-24     Holiday  Local  ...     1.0   0.0  2015-07-24-Guayaquil\n",
              "183  2015-07-25     Holiday  Local  ...     1.0   0.0  2015-07-25-Guayaquil\n",
              "264  2016-07-24  Additional  Local  ...     1.0   0.0  2016-07-24-Guayaquil\n",
              "265  2016-07-24    Transfer  Local  ...     1.0   0.0  2016-07-24-Guayaquil\n",
              "266  2016-07-25     Holiday  Local  ...     0.0   0.0  2016-07-25-Guayaquil\n",
              "321  2017-07-24  Additional  Local  ...     1.0   0.0  2017-07-24-Guayaquil\n",
              "322  2017-07-25  Additional  Local  ...     1.0   0.0  2017-07-25-Guayaquil\n",
              "\n",
              "[11 rows x 9 columns]"
            ]
          },
          "metadata": {},
          "execution_count": 40
        }
      ]
    },
    {
      "cell_type": "code",
      "metadata": {
        "id": "RQ-XbYQuB_Eg"
      },
      "source": [
        "#claramente no tiene sentido mantener ambas fechas\n",
        "holy_region.drop_duplicates(subset=\"date\", keep='first', inplace=True)"
      ],
      "execution_count": null,
      "outputs": []
    },
    {
      "cell_type": "code",
      "metadata": {
        "colab": {
          "base_uri": "https://localhost:8080/",
          "height": 49
        },
        "id": "_GHjaRsxB_IE",
        "outputId": "f6f788e2-bf85-496f-da48-e714a1b8384b"
      },
      "source": [
        "holy_region[holy_region.duplicated(['d_locale'], keep='first')]"
      ],
      "execution_count": null,
      "outputs": [
        {
          "output_type": "execute_result",
          "data": {
            "text/html": [
              "<div>\n",
              "<style scoped>\n",
              "    .dataframe tbody tr th:only-of-type {\n",
              "        vertical-align: middle;\n",
              "    }\n",
              "\n",
              "    .dataframe tbody tr th {\n",
              "        vertical-align: top;\n",
              "    }\n",
              "\n",
              "    .dataframe thead th {\n",
              "        text-align: right;\n",
              "    }\n",
              "</style>\n",
              "<table border=\"1\" class=\"dataframe\">\n",
              "  <thead>\n",
              "    <tr style=\"text-align: right;\">\n",
              "      <th></th>\n",
              "      <th>date</th>\n",
              "      <th>type</th>\n",
              "      <th>locale</th>\n",
              "      <th>locale_name</th>\n",
              "      <th>description</th>\n",
              "      <th>transferred</th>\n",
              "      <th>holyday</th>\n",
              "      <th>Event</th>\n",
              "      <th>d_locale</th>\n",
              "    </tr>\n",
              "  </thead>\n",
              "  <tbody>\n",
              "  </tbody>\n",
              "</table>\n",
              "</div>"
            ],
            "text/plain": [
              "Empty DataFrame\n",
              "Columns: [date, type, locale, locale_name, description, transferred, holyday, Event, d_locale]\n",
              "Index: []"
            ]
          },
          "metadata": {},
          "execution_count": 42
        }
      ]
    },
    {
      "cell_type": "code",
      "metadata": {
        "id": "hSRf4Pce97X2"
      },
      "source": [
        "#eliminar las columnas adicionales\n",
        "holy_ecuador.drop([\"Event\"], axis=1, inplace=True)\n",
        "holy_ecuador.drop([\"transferred\"], axis=1, inplace=True)\n",
        "holy_ecuador.drop([\"locale\"], axis=1, inplace=True)\n",
        "holy_ecuador.drop([\"locale_name\"], axis=1, inplace=True)\n",
        "\n",
        "events_ecuador.drop([\"holyday\"], axis=1, inplace=True)\n",
        "events_ecuador.drop([\"transferred\"], axis=1, inplace=True)\n",
        "events_ecuador.drop([\"locale\"], axis=1, inplace=True)\n",
        "events_ecuador.drop([\"locale_name\"], axis=1, inplace=True)\n",
        "events_ecuador.drop([\"type\"], axis=1, inplace=True)\n",
        "\n",
        "\n",
        "events_ecuador= events_ecuador.rename(columns={'description': 'desc_events'})\n",
        "holy_ecuador= holy_ecuador.rename(columns={'description': 'desc_holy'})\n",
        "\n"
      ],
      "execution_count": null,
      "outputs": []
    },
    {
      "cell_type": "markdown",
      "metadata": {
        "id": "YiA1M7aFHU06"
      },
      "source": [
        "ya no hay datos repetidos y tenemos 3 df\n",
        "\n",
        "holy_region en donde están las festiviades asociadas a región, todavía faltan estandarizar los nombres de las regiones para santo domingo y santo domingo de los tsachilas\n",
        "\n",
        "events_ecuador posee los eventos como terremotos o día de la madre mundiales etc\n",
        "\n",
        "holy_ecuador posee los feriados que se comparten para todos los territorios"
      ]
    },
    {
      "cell_type": "code",
      "metadata": {
        "id": "IZIjXfYKHUOQ"
      },
      "source": [
        ""
      ],
      "execution_count": null,
      "outputs": []
    },
    {
      "cell_type": "code",
      "metadata": {
        "id": "Y_pWFtfcm-3f"
      },
      "source": [
        "import calendar\n",
        "from pandas.tseries.offsets import MonthEnd"
      ],
      "execution_count": null,
      "outputs": []
    },
    {
      "cell_type": "code",
      "metadata": {
        "id": "57Tyjpmbpwhk"
      },
      "source": [
        "def create_date_table(start, end):\n",
        "    start_ts = pd.to_datetime(start).date()\n",
        "\n",
        "    end_ts = pd.to_datetime(end).date()\n",
        "\n",
        "    # record timetsamp is empty for now\n",
        "    dates =  pd.DataFrame(columns=['Record_timestamp'], index=pd.date_range(start_ts, end_ts))\n",
        "    dates.index.name = 'date'\n",
        "\n",
        "    days_names = {\n",
        "        i: name\n",
        "        for i, name\n",
        "        in enumerate(['Monday', 'Tuesday', 'Wednesday',\n",
        "                      'Thursday', 'Friday', 'Saturday', \n",
        "                      'Sunday'])\n",
        "    }\n",
        "\n",
        "    #dates['DOW'] = dates.index.dayofweek.map(days_names.get)\n",
        "    dates[\"DOW2\"] = dates.index.dayofweek+1\n",
        "    dates[\"Day\"] = dates.index.day\n",
        "    dates['Month'] = dates.index.month\n",
        "    dates['Quarter'] = dates.index.quarter\n",
        "    dates['Semester'] = dates.index.month.map(lambda mth: 1 if mth <7 else 2)\n",
        "    dates['Year'] = dates.index.year  #agregar info de días , mes etc\n",
        "\n",
        "    dates['DOY'] = dates.index.dayofyear   #día del año\n",
        "    dates.loc[dates['Day'] == 15, 'pub_pay'] = 1  #pagos días 15\n",
        "\n",
        "    dates['aux1'] = dates[\"Day\"]-1\n",
        "    dates[\"aux1\"] = dates[\"aux1\"].shift(periods=-1)\n",
        "    dates.loc[dates[\"aux1\"] == 0 , \"priv_pay\"] = 1  #día de fin de mes\n",
        "\n",
        "    dates.loc[dates[\"DOW2\"] == 6, \"FDS\"] = 1\n",
        "    dates.loc[dates[\"DOW2\"] == 7, \"FDS\"] = 1 #info fin de semana\n",
        "    dates['FDS'] = dates['FDS'].fillna(0)\n",
        "\n",
        "    dates['pub_pay'] = dates['pub_pay'].fillna(0)\n",
        "    dates['priv_pay'] = dates['priv_pay'].fillna(0)\n",
        "\n",
        "    dates['pub_pay'] = dates['pub_pay'] + dates['priv_pay']\n",
        "\n",
        "    dates.reset_index(inplace=True)\n",
        "    dates.index.name = 'date_id'\n",
        "    dates.drop([\"Record_timestamp\"], axis=1, inplace=True)\n",
        "    dates.drop([\"aux1\"], axis=1, inplace=True)\n",
        "\n",
        "    dates[\"DOW2\"] = dates[\"DOW2\"].astype(int)\n",
        "    dates[\"Day\"] = dates[\"Day\"].astype(int)\n",
        "    dates[\"Month\"] = dates[\"Month\"].astype(int)\n",
        "    dates[\"Quarter\"] = dates[\"Quarter\"].astype(int)\n",
        "    dates[\"Semester\"] = dates[\"Semester\"].astype(int)\n",
        "    dates[\"Year\"] = dates[\"Year\"].astype(int)\n",
        "    dates[\"DOY\"] = dates[\"DOY\"].astype(int)\n",
        "    dates[\"pub_pay\"] = dates[\"pub_pay\"].astype(int)\n",
        "    dates[\"priv_pay\"] = dates[\"priv_pay\"].astype(int)\n",
        "    dates[\"FDS\"] = dates[\"FDS\"].astype(int)\n",
        "\n",
        "    return dates"
      ],
      "execution_count": null,
      "outputs": []
    },
    {
      "cell_type": "code",
      "metadata": {
        "id": "Np0ATz2ypxgE"
      },
      "source": [
        "c_train = create_date_table(start='2013-01-01', end='2017-08-15')\n",
        "c_test = create_date_table(start='2017-08-16', end='2017-08-31')\n"
      ],
      "execution_count": null,
      "outputs": []
    },
    {
      "cell_type": "code",
      "metadata": {
        "id": "qj2JGVP31fi5",
        "colab": {
          "base_uri": "https://localhost:8080/"
        },
        "outputId": "1c72507c-4905-4ec6-f005-a45176336982"
      },
      "source": [
        "print(c_test.dtypes)"
      ],
      "execution_count": null,
      "outputs": [
        {
          "output_type": "stream",
          "name": "stdout",
          "text": [
            "date        datetime64[ns]\n",
            "DOW2                 int64\n",
            "Day                  int64\n",
            "Month                int64\n",
            "Quarter              int64\n",
            "Semester             int64\n",
            "Year                 int64\n",
            "DOY                  int64\n",
            "pub_pay              int64\n",
            "priv_pay             int64\n",
            "FDS                  int64\n",
            "dtype: object\n"
          ]
        }
      ]
    },
    {
      "cell_type": "code",
      "metadata": {
        "id": "HZ0f6Qs75CCh",
        "colab": {
          "base_uri": "https://localhost:8080/"
        },
        "outputId": "50bb78d2-9641-493d-fc8b-8c1eae2c654c"
      },
      "source": [
        "print(holy_ecuador.dtypes)"
      ],
      "execution_count": null,
      "outputs": [
        {
          "output_type": "stream",
          "name": "stdout",
          "text": [
            "date         datetime64[ns]\n",
            "type                 object\n",
            "desc_holy            object\n",
            "holyday             float64\n",
            "dtype: object\n"
          ]
        }
      ]
    },
    {
      "cell_type": "code",
      "metadata": {
        "colab": {
          "base_uri": "https://localhost:8080/"
        },
        "id": "XJlTvVQrPLiL",
        "outputId": "72136a9c-1180-4ffe-f80d-e0d6c2d70299"
      },
      "source": [
        "print(events_ecuador.dtypes)"
      ],
      "execution_count": null,
      "outputs": [
        {
          "output_type": "stream",
          "name": "stdout",
          "text": [
            "date           datetime64[ns]\n",
            "desc_events            object\n",
            "Event                 float64\n",
            "dtype: object\n"
          ]
        }
      ]
    },
    {
      "cell_type": "code",
      "metadata": {
        "id": "Mx2p6u14T2YG",
        "colab": {
          "base_uri": "https://localhost:8080/"
        },
        "outputId": "4bbef43c-79c0-46a0-85d0-4d7e6223d1cb"
      },
      "source": [
        "holy_ecuador['date'].duplicated().sum(), events_ecuador['date'].duplicated().sum(), c_test['date'].duplicated().sum(), c_train['date'].duplicated().sum()"
      ],
      "execution_count": null,
      "outputs": [
        {
          "output_type": "execute_result",
          "data": {
            "text/plain": [
              "(0, 0, 0, 0)"
            ]
          },
          "metadata": {},
          "execution_count": 50
        }
      ]
    },
    {
      "cell_type": "code",
      "metadata": {
        "id": "MjDnYudX5FSk"
      },
      "source": [
        "#unir los datos para presentar\n",
        "\n",
        "c_test=pd.merge(c_test, holy_ecuador, on=\"date\", how=\"left\")\n",
        "c_test=pd.merge(c_test, events_ecuador, on=\"date\", how=\"left\")\n",
        "\n",
        "c_train=pd.merge(c_train, holy_ecuador, on=\"date\", how=\"left\")\n",
        "c_train=pd.merge(c_train, events_ecuador, on=\"date\", how=\"left\")"
      ],
      "execution_count": null,
      "outputs": []
    },
    {
      "cell_type": "code",
      "metadata": {
        "id": "bUyOd9gDS4Fv"
      },
      "source": [
        "c_test = c_test.fillna(0)\n",
        "c_train = c_train.fillna(0)"
      ],
      "execution_count": null,
      "outputs": []
    },
    {
      "cell_type": "code",
      "metadata": {
        "colab": {
          "base_uri": "https://localhost:8080/",
          "height": 545
        },
        "id": "ejw9enkSH-PJ",
        "outputId": "3da6157c-2875-4a14-da9e-8b6529188595"
      },
      "source": [
        "c_test"
      ],
      "execution_count": null,
      "outputs": [
        {
          "output_type": "execute_result",
          "data": {
            "text/html": [
              "<div>\n",
              "<style scoped>\n",
              "    .dataframe tbody tr th:only-of-type {\n",
              "        vertical-align: middle;\n",
              "    }\n",
              "\n",
              "    .dataframe tbody tr th {\n",
              "        vertical-align: top;\n",
              "    }\n",
              "\n",
              "    .dataframe thead th {\n",
              "        text-align: right;\n",
              "    }\n",
              "</style>\n",
              "<table border=\"1\" class=\"dataframe\">\n",
              "  <thead>\n",
              "    <tr style=\"text-align: right;\">\n",
              "      <th></th>\n",
              "      <th>date</th>\n",
              "      <th>DOW2</th>\n",
              "      <th>Day</th>\n",
              "      <th>Month</th>\n",
              "      <th>Quarter</th>\n",
              "      <th>Semester</th>\n",
              "      <th>Year</th>\n",
              "      <th>DOY</th>\n",
              "      <th>pub_pay</th>\n",
              "      <th>priv_pay</th>\n",
              "      <th>FDS</th>\n",
              "      <th>type</th>\n",
              "      <th>desc_holy</th>\n",
              "      <th>holyday</th>\n",
              "      <th>desc_events</th>\n",
              "      <th>Event</th>\n",
              "    </tr>\n",
              "  </thead>\n",
              "  <tbody>\n",
              "    <tr>\n",
              "      <th>0</th>\n",
              "      <td>2017-08-16</td>\n",
              "      <td>3</td>\n",
              "      <td>16</td>\n",
              "      <td>8</td>\n",
              "      <td>3</td>\n",
              "      <td>2</td>\n",
              "      <td>2017</td>\n",
              "      <td>228</td>\n",
              "      <td>0</td>\n",
              "      <td>0</td>\n",
              "      <td>0</td>\n",
              "      <td>0</td>\n",
              "      <td>0</td>\n",
              "      <td>0.0</td>\n",
              "      <td>0</td>\n",
              "      <td>0.0</td>\n",
              "    </tr>\n",
              "    <tr>\n",
              "      <th>1</th>\n",
              "      <td>2017-08-17</td>\n",
              "      <td>4</td>\n",
              "      <td>17</td>\n",
              "      <td>8</td>\n",
              "      <td>3</td>\n",
              "      <td>2</td>\n",
              "      <td>2017</td>\n",
              "      <td>229</td>\n",
              "      <td>0</td>\n",
              "      <td>0</td>\n",
              "      <td>0</td>\n",
              "      <td>0</td>\n",
              "      <td>0</td>\n",
              "      <td>0.0</td>\n",
              "      <td>0</td>\n",
              "      <td>0.0</td>\n",
              "    </tr>\n",
              "    <tr>\n",
              "      <th>2</th>\n",
              "      <td>2017-08-18</td>\n",
              "      <td>5</td>\n",
              "      <td>18</td>\n",
              "      <td>8</td>\n",
              "      <td>3</td>\n",
              "      <td>2</td>\n",
              "      <td>2017</td>\n",
              "      <td>230</td>\n",
              "      <td>0</td>\n",
              "      <td>0</td>\n",
              "      <td>0</td>\n",
              "      <td>0</td>\n",
              "      <td>0</td>\n",
              "      <td>0.0</td>\n",
              "      <td>0</td>\n",
              "      <td>0.0</td>\n",
              "    </tr>\n",
              "    <tr>\n",
              "      <th>3</th>\n",
              "      <td>2017-08-19</td>\n",
              "      <td>6</td>\n",
              "      <td>19</td>\n",
              "      <td>8</td>\n",
              "      <td>3</td>\n",
              "      <td>2</td>\n",
              "      <td>2017</td>\n",
              "      <td>231</td>\n",
              "      <td>0</td>\n",
              "      <td>0</td>\n",
              "      <td>1</td>\n",
              "      <td>0</td>\n",
              "      <td>0</td>\n",
              "      <td>0.0</td>\n",
              "      <td>0</td>\n",
              "      <td>0.0</td>\n",
              "    </tr>\n",
              "    <tr>\n",
              "      <th>4</th>\n",
              "      <td>2017-08-20</td>\n",
              "      <td>7</td>\n",
              "      <td>20</td>\n",
              "      <td>8</td>\n",
              "      <td>3</td>\n",
              "      <td>2</td>\n",
              "      <td>2017</td>\n",
              "      <td>232</td>\n",
              "      <td>0</td>\n",
              "      <td>0</td>\n",
              "      <td>1</td>\n",
              "      <td>0</td>\n",
              "      <td>0</td>\n",
              "      <td>0.0</td>\n",
              "      <td>0</td>\n",
              "      <td>0.0</td>\n",
              "    </tr>\n",
              "    <tr>\n",
              "      <th>5</th>\n",
              "      <td>2017-08-21</td>\n",
              "      <td>1</td>\n",
              "      <td>21</td>\n",
              "      <td>8</td>\n",
              "      <td>3</td>\n",
              "      <td>2</td>\n",
              "      <td>2017</td>\n",
              "      <td>233</td>\n",
              "      <td>0</td>\n",
              "      <td>0</td>\n",
              "      <td>0</td>\n",
              "      <td>0</td>\n",
              "      <td>0</td>\n",
              "      <td>0.0</td>\n",
              "      <td>0</td>\n",
              "      <td>0.0</td>\n",
              "    </tr>\n",
              "    <tr>\n",
              "      <th>6</th>\n",
              "      <td>2017-08-22</td>\n",
              "      <td>2</td>\n",
              "      <td>22</td>\n",
              "      <td>8</td>\n",
              "      <td>3</td>\n",
              "      <td>2</td>\n",
              "      <td>2017</td>\n",
              "      <td>234</td>\n",
              "      <td>0</td>\n",
              "      <td>0</td>\n",
              "      <td>0</td>\n",
              "      <td>0</td>\n",
              "      <td>0</td>\n",
              "      <td>0.0</td>\n",
              "      <td>0</td>\n",
              "      <td>0.0</td>\n",
              "    </tr>\n",
              "    <tr>\n",
              "      <th>7</th>\n",
              "      <td>2017-08-23</td>\n",
              "      <td>3</td>\n",
              "      <td>23</td>\n",
              "      <td>8</td>\n",
              "      <td>3</td>\n",
              "      <td>2</td>\n",
              "      <td>2017</td>\n",
              "      <td>235</td>\n",
              "      <td>0</td>\n",
              "      <td>0</td>\n",
              "      <td>0</td>\n",
              "      <td>0</td>\n",
              "      <td>0</td>\n",
              "      <td>0.0</td>\n",
              "      <td>0</td>\n",
              "      <td>0.0</td>\n",
              "    </tr>\n",
              "    <tr>\n",
              "      <th>8</th>\n",
              "      <td>2017-08-24</td>\n",
              "      <td>4</td>\n",
              "      <td>24</td>\n",
              "      <td>8</td>\n",
              "      <td>3</td>\n",
              "      <td>2</td>\n",
              "      <td>2017</td>\n",
              "      <td>236</td>\n",
              "      <td>0</td>\n",
              "      <td>0</td>\n",
              "      <td>0</td>\n",
              "      <td>0</td>\n",
              "      <td>0</td>\n",
              "      <td>0.0</td>\n",
              "      <td>0</td>\n",
              "      <td>0.0</td>\n",
              "    </tr>\n",
              "    <tr>\n",
              "      <th>9</th>\n",
              "      <td>2017-08-25</td>\n",
              "      <td>5</td>\n",
              "      <td>25</td>\n",
              "      <td>8</td>\n",
              "      <td>3</td>\n",
              "      <td>2</td>\n",
              "      <td>2017</td>\n",
              "      <td>237</td>\n",
              "      <td>0</td>\n",
              "      <td>0</td>\n",
              "      <td>0</td>\n",
              "      <td>0</td>\n",
              "      <td>0</td>\n",
              "      <td>0.0</td>\n",
              "      <td>0</td>\n",
              "      <td>0.0</td>\n",
              "    </tr>\n",
              "    <tr>\n",
              "      <th>10</th>\n",
              "      <td>2017-08-26</td>\n",
              "      <td>6</td>\n",
              "      <td>26</td>\n",
              "      <td>8</td>\n",
              "      <td>3</td>\n",
              "      <td>2</td>\n",
              "      <td>2017</td>\n",
              "      <td>238</td>\n",
              "      <td>0</td>\n",
              "      <td>0</td>\n",
              "      <td>1</td>\n",
              "      <td>0</td>\n",
              "      <td>0</td>\n",
              "      <td>0.0</td>\n",
              "      <td>0</td>\n",
              "      <td>0.0</td>\n",
              "    </tr>\n",
              "    <tr>\n",
              "      <th>11</th>\n",
              "      <td>2017-08-27</td>\n",
              "      <td>7</td>\n",
              "      <td>27</td>\n",
              "      <td>8</td>\n",
              "      <td>3</td>\n",
              "      <td>2</td>\n",
              "      <td>2017</td>\n",
              "      <td>239</td>\n",
              "      <td>0</td>\n",
              "      <td>0</td>\n",
              "      <td>1</td>\n",
              "      <td>0</td>\n",
              "      <td>0</td>\n",
              "      <td>0.0</td>\n",
              "      <td>0</td>\n",
              "      <td>0.0</td>\n",
              "    </tr>\n",
              "    <tr>\n",
              "      <th>12</th>\n",
              "      <td>2017-08-28</td>\n",
              "      <td>1</td>\n",
              "      <td>28</td>\n",
              "      <td>8</td>\n",
              "      <td>3</td>\n",
              "      <td>2</td>\n",
              "      <td>2017</td>\n",
              "      <td>240</td>\n",
              "      <td>0</td>\n",
              "      <td>0</td>\n",
              "      <td>0</td>\n",
              "      <td>0</td>\n",
              "      <td>0</td>\n",
              "      <td>0.0</td>\n",
              "      <td>0</td>\n",
              "      <td>0.0</td>\n",
              "    </tr>\n",
              "    <tr>\n",
              "      <th>13</th>\n",
              "      <td>2017-08-29</td>\n",
              "      <td>2</td>\n",
              "      <td>29</td>\n",
              "      <td>8</td>\n",
              "      <td>3</td>\n",
              "      <td>2</td>\n",
              "      <td>2017</td>\n",
              "      <td>241</td>\n",
              "      <td>0</td>\n",
              "      <td>0</td>\n",
              "      <td>0</td>\n",
              "      <td>0</td>\n",
              "      <td>0</td>\n",
              "      <td>0.0</td>\n",
              "      <td>0</td>\n",
              "      <td>0.0</td>\n",
              "    </tr>\n",
              "    <tr>\n",
              "      <th>14</th>\n",
              "      <td>2017-08-30</td>\n",
              "      <td>3</td>\n",
              "      <td>30</td>\n",
              "      <td>8</td>\n",
              "      <td>3</td>\n",
              "      <td>2</td>\n",
              "      <td>2017</td>\n",
              "      <td>242</td>\n",
              "      <td>0</td>\n",
              "      <td>0</td>\n",
              "      <td>0</td>\n",
              "      <td>0</td>\n",
              "      <td>0</td>\n",
              "      <td>0.0</td>\n",
              "      <td>0</td>\n",
              "      <td>0.0</td>\n",
              "    </tr>\n",
              "    <tr>\n",
              "      <th>15</th>\n",
              "      <td>2017-08-31</td>\n",
              "      <td>4</td>\n",
              "      <td>31</td>\n",
              "      <td>8</td>\n",
              "      <td>3</td>\n",
              "      <td>2</td>\n",
              "      <td>2017</td>\n",
              "      <td>243</td>\n",
              "      <td>0</td>\n",
              "      <td>0</td>\n",
              "      <td>0</td>\n",
              "      <td>0</td>\n",
              "      <td>0</td>\n",
              "      <td>0.0</td>\n",
              "      <td>0</td>\n",
              "      <td>0.0</td>\n",
              "    </tr>\n",
              "  </tbody>\n",
              "</table>\n",
              "</div>"
            ],
            "text/plain": [
              "         date  DOW2  Day  Month  ...  desc_holy  holyday  desc_events  Event\n",
              "0  2017-08-16     3   16      8  ...          0      0.0            0    0.0\n",
              "1  2017-08-17     4   17      8  ...          0      0.0            0    0.0\n",
              "2  2017-08-18     5   18      8  ...          0      0.0            0    0.0\n",
              "3  2017-08-19     6   19      8  ...          0      0.0            0    0.0\n",
              "4  2017-08-20     7   20      8  ...          0      0.0            0    0.0\n",
              "5  2017-08-21     1   21      8  ...          0      0.0            0    0.0\n",
              "6  2017-08-22     2   22      8  ...          0      0.0            0    0.0\n",
              "7  2017-08-23     3   23      8  ...          0      0.0            0    0.0\n",
              "8  2017-08-24     4   24      8  ...          0      0.0            0    0.0\n",
              "9  2017-08-25     5   25      8  ...          0      0.0            0    0.0\n",
              "10 2017-08-26     6   26      8  ...          0      0.0            0    0.0\n",
              "11 2017-08-27     7   27      8  ...          0      0.0            0    0.0\n",
              "12 2017-08-28     1   28      8  ...          0      0.0            0    0.0\n",
              "13 2017-08-29     2   29      8  ...          0      0.0            0    0.0\n",
              "14 2017-08-30     3   30      8  ...          0      0.0            0    0.0\n",
              "15 2017-08-31     4   31      8  ...          0      0.0            0    0.0\n",
              "\n",
              "[16 rows x 16 columns]"
            ]
          },
          "metadata": {},
          "execution_count": 53
        }
      ]
    },
    {
      "cell_type": "code",
      "metadata": {
        "id": "0PKIHbwbNC2d"
      },
      "source": [
        "#los fines de semana largo pueden generar cambios en la demanda\n",
        "c_test[\"feriado_fds\"]=c_test[\"holyday\"] + c_test[\"FDS\"]\n",
        "#dado que un feriado puede caer en fin de semana el maximo de esa col debe ser uno\n",
        "c_test.loc[c_test['feriado_fds'] > 1, 'feriado_fds'] = 1\n",
        "\n",
        "\n",
        "c_train[\"feriado_fds\"]=c_train[\"holyday\"] + c_train[\"FDS\"]\n",
        "\n",
        "c_train.loc[c_train['feriado_fds'] > 1, 'feriado_fds'] = 1\n",
        "\n"
      ],
      "execution_count": null,
      "outputs": []
    },
    {
      "cell_type": "markdown",
      "metadata": {
        "id": "eLGov3tjTF3Q"
      },
      "source": [
        "calendar_ecuador[\"aux1\"] = calendar_ecuador[\"feriado_fds\"].shift(periods=-1)\n",
        "calendar_ecuador[\"aux2\"] = calendar_ecuador[\"feriado_fds\"].shift(periods=-2)\n",
        "calendar_ecuador[\"aux3\"] = calendar_ecuador[\"feriado_fds\"].shift(periods=-3)\n",
        "calendar_ecuador[\"aux4\"] = calendar_ecuador[\"feriado_fds\"].shift(periods=-4)\n",
        "calendar_ecuador[\"aux5\"] = calendar_ecuador[\"feriado_fds\"].shift(periods=-5)\n",
        "calendar_ecuador[\"aux6\"] = calendar_ecuador[\"feriado_fds\"].shift(periods=-6)\n",
        "# traigo el valor del día de ayer y anteayer..., luego los sumo y si dan 4  son fin de semana largo de 4 días\n",
        "\n",
        "calendar_ecuador[\"FDL4\"] = calendar_ecuador[\"aux6\"] + calendar_ecuador[\"aux5\"] + calendar_ecuador[\"aux4\"] + calendar_ecuador[\"aux3\"] + calendar_ecuador[\"aux2\"] + calendar_ecuador[\"aux1\"] + calendar_ecuador[\"feriado_fds\"]\n",
        "calendar_ecuador[\"FDL4\"] = calendar_ecuador[\"FDL4\"].shift(3)\n",
        "calendar_ecuador.loc[calendar_ecuador['FDL4'] <4, \"FDL4\"] = 0\n",
        "calendar_ecuador.loc[calendar_ecuador['FDL4'] >4, \"FDL4\"] = 0\n",
        "\n",
        "calendar_ecuador[\"FDL4\"] = calendar_ecuador[\"FDL4\"]*calendar_ecuador[\"feriado_fds\"]\n",
        "\n"
      ]
    },
    {
      "cell_type": "markdown",
      "metadata": {
        "id": "bjPhH4PhdFYD"
      },
      "source": [
        "# traigo el valor del día de ayer y anteayer..., luego los sumo y si dan 3 son fin de semana largo de 3 días\n",
        "\n",
        "calendar_ecuador[\"FDL3\"] = calendar_ecuador[\"aux4\"] + calendar_ecuador[\"aux3\"] + calendar_ecuador[\"aux2\"] + calendar_ecuador[\"aux1\"] + calendar_ecuador[\"feriado_fds\"]\n",
        "calendar_ecuador[\"FDL3\"] = calendar_ecuador[\"FDL3\"].shift(2)\n",
        "calendar_ecuador.loc[calendar_ecuador['FDL3'] <3, \"FDL3\"] = 0\n",
        "calendar_ecuador.loc[calendar_ecuador['FDL3'] >3, \"FDL3\"] = 0\n",
        "calendar_ecuador[\"FDL3\"] = calendar_ecuador[\"FDL3\"]*calendar_ecuador[\"feriado_fds\"]"
      ]
    },
    {
      "cell_type": "markdown",
      "metadata": {
        "id": "0mrn8RtLeWcB"
      },
      "source": [
        "calendar_ecuador.drop([\"aux1\"], axis=1, inplace=True)\n",
        "calendar_ecuador.drop([\"aux2\"], axis=1, inplace=True)\n",
        "calendar_ecuador.drop([\"aux3\"], axis=1, inplace=True)\n",
        "calendar_ecuador.drop([\"aux4\"], axis=1, inplace=True)\n",
        "calendar_ecuador.drop([\"aux5\"], axis=1, inplace=True)\n",
        "calendar_ecuador.drop([\"aux6\"], axis=1, inplace=True)\n",
        "\n",
        "calendar_ecuador = calendar_ecuador.fillna(0)\n",
        "calendar_ecuador.head(50)"
      ]
    },
    {
      "cell_type": "code",
      "metadata": {
        "id": "V8UZV02LeZWe",
        "colab": {
          "base_uri": "https://localhost:8080/",
          "height": 111
        },
        "outputId": "6615f86b-050d-46fe-eac1-8e930ebf8ef0"
      },
      "source": [
        "c_test[\"holyday\"] = c_test[\"holyday\"].astype(int)\n",
        "c_test[\"Event\"] = c_test[\"Event\"].astype(int)\n",
        "\n",
        "c_train[\"holyday\"] = c_train[\"holyday\"].astype(int)\n",
        "c_train[\"Event\"] = c_train[\"Event\"].astype(int)\n",
        "\n",
        "c_test[\"feriado_fds\"] = c_test[\"feriado_fds\"].astype(int)\n",
        "c_train[\"feriado_fds\"] = c_train[\"feriado_fds\"].astype(int)\n",
        "\n",
        "\n",
        "c_test.head(2)\n"
      ],
      "execution_count": null,
      "outputs": [
        {
          "output_type": "execute_result",
          "data": {
            "text/html": [
              "<div>\n",
              "<style scoped>\n",
              "    .dataframe tbody tr th:only-of-type {\n",
              "        vertical-align: middle;\n",
              "    }\n",
              "\n",
              "    .dataframe tbody tr th {\n",
              "        vertical-align: top;\n",
              "    }\n",
              "\n",
              "    .dataframe thead th {\n",
              "        text-align: right;\n",
              "    }\n",
              "</style>\n",
              "<table border=\"1\" class=\"dataframe\">\n",
              "  <thead>\n",
              "    <tr style=\"text-align: right;\">\n",
              "      <th></th>\n",
              "      <th>date</th>\n",
              "      <th>DOW2</th>\n",
              "      <th>Day</th>\n",
              "      <th>Month</th>\n",
              "      <th>Quarter</th>\n",
              "      <th>Semester</th>\n",
              "      <th>Year</th>\n",
              "      <th>DOY</th>\n",
              "      <th>pub_pay</th>\n",
              "      <th>priv_pay</th>\n",
              "      <th>FDS</th>\n",
              "      <th>type</th>\n",
              "      <th>desc_holy</th>\n",
              "      <th>holyday</th>\n",
              "      <th>desc_events</th>\n",
              "      <th>Event</th>\n",
              "      <th>feriado_fds</th>\n",
              "    </tr>\n",
              "  </thead>\n",
              "  <tbody>\n",
              "    <tr>\n",
              "      <th>0</th>\n",
              "      <td>2017-08-16</td>\n",
              "      <td>3</td>\n",
              "      <td>16</td>\n",
              "      <td>8</td>\n",
              "      <td>3</td>\n",
              "      <td>2</td>\n",
              "      <td>2017</td>\n",
              "      <td>228</td>\n",
              "      <td>0</td>\n",
              "      <td>0</td>\n",
              "      <td>0</td>\n",
              "      <td>0</td>\n",
              "      <td>0</td>\n",
              "      <td>0</td>\n",
              "      <td>0</td>\n",
              "      <td>0</td>\n",
              "      <td>0</td>\n",
              "    </tr>\n",
              "    <tr>\n",
              "      <th>1</th>\n",
              "      <td>2017-08-17</td>\n",
              "      <td>4</td>\n",
              "      <td>17</td>\n",
              "      <td>8</td>\n",
              "      <td>3</td>\n",
              "      <td>2</td>\n",
              "      <td>2017</td>\n",
              "      <td>229</td>\n",
              "      <td>0</td>\n",
              "      <td>0</td>\n",
              "      <td>0</td>\n",
              "      <td>0</td>\n",
              "      <td>0</td>\n",
              "      <td>0</td>\n",
              "      <td>0</td>\n",
              "      <td>0</td>\n",
              "      <td>0</td>\n",
              "    </tr>\n",
              "  </tbody>\n",
              "</table>\n",
              "</div>"
            ],
            "text/plain": [
              "        date  DOW2  Day  Month  ...  holyday  desc_events  Event  feriado_fds\n",
              "0 2017-08-16     3   16      8  ...        0            0      0            0\n",
              "1 2017-08-17     4   17      8  ...        0            0      0            0\n",
              "\n",
              "[2 rows x 17 columns]"
            ]
          },
          "metadata": {},
          "execution_count": 55
        }
      ]
    },
    {
      "cell_type": "code",
      "metadata": {
        "id": "bG8gxG9ReIFt"
      },
      "source": [
        "#se añadira a info del petroleo\n",
        "oil= pd.read_csv(path+\"oil.csv\")"
      ],
      "execution_count": null,
      "outputs": []
    },
    {
      "cell_type": "code",
      "metadata": {
        "colab": {
          "base_uri": "https://localhost:8080/",
          "height": 419
        },
        "id": "NkXI-l_KekKQ",
        "outputId": "ba6d4587-5dc9-4e02-f0d6-7a3e10e7a8bd"
      },
      "source": [
        "oil"
      ],
      "execution_count": null,
      "outputs": [
        {
          "output_type": "execute_result",
          "data": {
            "text/html": [
              "<div>\n",
              "<style scoped>\n",
              "    .dataframe tbody tr th:only-of-type {\n",
              "        vertical-align: middle;\n",
              "    }\n",
              "\n",
              "    .dataframe tbody tr th {\n",
              "        vertical-align: top;\n",
              "    }\n",
              "\n",
              "    .dataframe thead th {\n",
              "        text-align: right;\n",
              "    }\n",
              "</style>\n",
              "<table border=\"1\" class=\"dataframe\">\n",
              "  <thead>\n",
              "    <tr style=\"text-align: right;\">\n",
              "      <th></th>\n",
              "      <th>date</th>\n",
              "      <th>dcoilwtico</th>\n",
              "    </tr>\n",
              "  </thead>\n",
              "  <tbody>\n",
              "    <tr>\n",
              "      <th>0</th>\n",
              "      <td>2013-01-01</td>\n",
              "      <td>NaN</td>\n",
              "    </tr>\n",
              "    <tr>\n",
              "      <th>1</th>\n",
              "      <td>2013-01-02</td>\n",
              "      <td>93.14</td>\n",
              "    </tr>\n",
              "    <tr>\n",
              "      <th>2</th>\n",
              "      <td>2013-01-03</td>\n",
              "      <td>92.97</td>\n",
              "    </tr>\n",
              "    <tr>\n",
              "      <th>3</th>\n",
              "      <td>2013-01-04</td>\n",
              "      <td>93.12</td>\n",
              "    </tr>\n",
              "    <tr>\n",
              "      <th>4</th>\n",
              "      <td>2013-01-07</td>\n",
              "      <td>93.20</td>\n",
              "    </tr>\n",
              "    <tr>\n",
              "      <th>...</th>\n",
              "      <td>...</td>\n",
              "      <td>...</td>\n",
              "    </tr>\n",
              "    <tr>\n",
              "      <th>1213</th>\n",
              "      <td>2017-08-25</td>\n",
              "      <td>47.65</td>\n",
              "    </tr>\n",
              "    <tr>\n",
              "      <th>1214</th>\n",
              "      <td>2017-08-28</td>\n",
              "      <td>46.40</td>\n",
              "    </tr>\n",
              "    <tr>\n",
              "      <th>1215</th>\n",
              "      <td>2017-08-29</td>\n",
              "      <td>46.46</td>\n",
              "    </tr>\n",
              "    <tr>\n",
              "      <th>1216</th>\n",
              "      <td>2017-08-30</td>\n",
              "      <td>45.96</td>\n",
              "    </tr>\n",
              "    <tr>\n",
              "      <th>1217</th>\n",
              "      <td>2017-08-31</td>\n",
              "      <td>47.26</td>\n",
              "    </tr>\n",
              "  </tbody>\n",
              "</table>\n",
              "<p>1218 rows × 2 columns</p>\n",
              "</div>"
            ],
            "text/plain": [
              "            date  dcoilwtico\n",
              "0     2013-01-01         NaN\n",
              "1     2013-01-02       93.14\n",
              "2     2013-01-03       92.97\n",
              "3     2013-01-04       93.12\n",
              "4     2013-01-07       93.20\n",
              "...          ...         ...\n",
              "1213  2017-08-25       47.65\n",
              "1214  2017-08-28       46.40\n",
              "1215  2017-08-29       46.46\n",
              "1216  2017-08-30       45.96\n",
              "1217  2017-08-31       47.26\n",
              "\n",
              "[1218 rows x 2 columns]"
            ]
          },
          "metadata": {},
          "execution_count": 57
        }
      ]
    },
    {
      "cell_type": "code",
      "metadata": {
        "colab": {
          "base_uri": "https://localhost:8080/"
        },
        "id": "LVbkRU1uelDN",
        "outputId": "39b8bef6-4d02-4991-b945-b08cbff07543"
      },
      "source": [
        "print(oil.dtypes)"
      ],
      "execution_count": null,
      "outputs": [
        {
          "output_type": "stream",
          "name": "stdout",
          "text": [
            "date           object\n",
            "dcoilwtico    float64\n",
            "dtype: object\n"
          ]
        }
      ]
    },
    {
      "cell_type": "code",
      "metadata": {
        "colab": {
          "base_uri": "https://localhost:8080/"
        },
        "id": "FxEj2EBsesK2",
        "outputId": "bb075c7c-0f71-4943-f071-482f686638c9"
      },
      "source": [
        "oil.isna().sum()"
      ],
      "execution_count": null,
      "outputs": [
        {
          "output_type": "execute_result",
          "data": {
            "text/plain": [
              "date           0\n",
              "dcoilwtico    43\n",
              "dtype: int64"
            ]
          },
          "metadata": {},
          "execution_count": 59
        }
      ]
    },
    {
      "cell_type": "code",
      "metadata": {
        "colab": {
          "base_uri": "https://localhost:8080/"
        },
        "id": "NAN0qIZxgK-B",
        "outputId": "cc65ebcb-603c-4b90-b2e5-e7bb93c4f318"
      },
      "source": [
        "oil['date'].duplicated().sum()"
      ],
      "execution_count": null,
      "outputs": [
        {
          "output_type": "execute_result",
          "data": {
            "text/plain": [
              "0"
            ]
          },
          "metadata": {},
          "execution_count": 60
        }
      ]
    },
    {
      "cell_type": "code",
      "metadata": {
        "colab": {
          "base_uri": "https://localhost:8080/",
          "height": 204
        },
        "id": "ca8_X-ike9eW",
        "outputId": "7a7a4a2f-8434-4750-c1a3-c470774f2548"
      },
      "source": [
        "#los nan se pueden llenar usando el valor anterior cuando se unan a calendar_ecuador, la fecha se debe cambiar a fecha\n",
        "oil['date'] = pd.to_datetime(oil['date'])\n",
        "oil.tail(5)"
      ],
      "execution_count": null,
      "outputs": [
        {
          "output_type": "execute_result",
          "data": {
            "text/html": [
              "<div>\n",
              "<style scoped>\n",
              "    .dataframe tbody tr th:only-of-type {\n",
              "        vertical-align: middle;\n",
              "    }\n",
              "\n",
              "    .dataframe tbody tr th {\n",
              "        vertical-align: top;\n",
              "    }\n",
              "\n",
              "    .dataframe thead th {\n",
              "        text-align: right;\n",
              "    }\n",
              "</style>\n",
              "<table border=\"1\" class=\"dataframe\">\n",
              "  <thead>\n",
              "    <tr style=\"text-align: right;\">\n",
              "      <th></th>\n",
              "      <th>date</th>\n",
              "      <th>dcoilwtico</th>\n",
              "    </tr>\n",
              "  </thead>\n",
              "  <tbody>\n",
              "    <tr>\n",
              "      <th>1213</th>\n",
              "      <td>2017-08-25</td>\n",
              "      <td>47.65</td>\n",
              "    </tr>\n",
              "    <tr>\n",
              "      <th>1214</th>\n",
              "      <td>2017-08-28</td>\n",
              "      <td>46.40</td>\n",
              "    </tr>\n",
              "    <tr>\n",
              "      <th>1215</th>\n",
              "      <td>2017-08-29</td>\n",
              "      <td>46.46</td>\n",
              "    </tr>\n",
              "    <tr>\n",
              "      <th>1216</th>\n",
              "      <td>2017-08-30</td>\n",
              "      <td>45.96</td>\n",
              "    </tr>\n",
              "    <tr>\n",
              "      <th>1217</th>\n",
              "      <td>2017-08-31</td>\n",
              "      <td>47.26</td>\n",
              "    </tr>\n",
              "  </tbody>\n",
              "</table>\n",
              "</div>"
            ],
            "text/plain": [
              "           date  dcoilwtico\n",
              "1213 2017-08-25       47.65\n",
              "1214 2017-08-28       46.40\n",
              "1215 2017-08-29       46.46\n",
              "1216 2017-08-30       45.96\n",
              "1217 2017-08-31       47.26"
            ]
          },
          "metadata": {},
          "execution_count": 61
        }
      ]
    },
    {
      "cell_type": "code",
      "metadata": {
        "id": "iKYFlwyLfu8G"
      },
      "source": [
        "c_test=pd.merge(c_test, oil, on=\"date\", how=\"left\")\n",
        "c_train=pd.merge(c_train, oil, on=\"date\", how=\"left\")"
      ],
      "execution_count": null,
      "outputs": []
    },
    {
      "cell_type": "code",
      "metadata": {
        "colab": {
          "base_uri": "https://localhost:8080/",
          "height": 204
        },
        "id": "XP4Kx3OogRQK",
        "outputId": "51b5b974-a9e2-4b37-dd89-326f9c9c13e0"
      },
      "source": [
        "c_train.fillna(method=\"ffill\", inplace=True)\n",
        "c_test.fillna(method=\"ffill\", inplace=True)\n",
        "\n",
        "c_test.fillna(0, inplace=True)\n",
        "c_train.fillna(0, inplace=True)\n",
        "\n",
        "c_test.drop([\"desc_events\",\"desc_holy\",\"type\"], axis=1, inplace=True)\n",
        "c_train.drop([\"desc_events\",\"desc_holy\", \"type\"], axis=1, inplace=True)\n",
        "\n",
        "c_test.head()\n",
        "\n"
      ],
      "execution_count": null,
      "outputs": [
        {
          "output_type": "execute_result",
          "data": {
            "text/html": [
              "<div>\n",
              "<style scoped>\n",
              "    .dataframe tbody tr th:only-of-type {\n",
              "        vertical-align: middle;\n",
              "    }\n",
              "\n",
              "    .dataframe tbody tr th {\n",
              "        vertical-align: top;\n",
              "    }\n",
              "\n",
              "    .dataframe thead th {\n",
              "        text-align: right;\n",
              "    }\n",
              "</style>\n",
              "<table border=\"1\" class=\"dataframe\">\n",
              "  <thead>\n",
              "    <tr style=\"text-align: right;\">\n",
              "      <th></th>\n",
              "      <th>date</th>\n",
              "      <th>DOW2</th>\n",
              "      <th>Day</th>\n",
              "      <th>Month</th>\n",
              "      <th>Quarter</th>\n",
              "      <th>Semester</th>\n",
              "      <th>Year</th>\n",
              "      <th>DOY</th>\n",
              "      <th>pub_pay</th>\n",
              "      <th>priv_pay</th>\n",
              "      <th>FDS</th>\n",
              "      <th>holyday</th>\n",
              "      <th>Event</th>\n",
              "      <th>feriado_fds</th>\n",
              "      <th>dcoilwtico</th>\n",
              "    </tr>\n",
              "  </thead>\n",
              "  <tbody>\n",
              "    <tr>\n",
              "      <th>0</th>\n",
              "      <td>2017-08-16</td>\n",
              "      <td>3</td>\n",
              "      <td>16</td>\n",
              "      <td>8</td>\n",
              "      <td>3</td>\n",
              "      <td>2</td>\n",
              "      <td>2017</td>\n",
              "      <td>228</td>\n",
              "      <td>0</td>\n",
              "      <td>0</td>\n",
              "      <td>0</td>\n",
              "      <td>0</td>\n",
              "      <td>0</td>\n",
              "      <td>0</td>\n",
              "      <td>46.80</td>\n",
              "    </tr>\n",
              "    <tr>\n",
              "      <th>1</th>\n",
              "      <td>2017-08-17</td>\n",
              "      <td>4</td>\n",
              "      <td>17</td>\n",
              "      <td>8</td>\n",
              "      <td>3</td>\n",
              "      <td>2</td>\n",
              "      <td>2017</td>\n",
              "      <td>229</td>\n",
              "      <td>0</td>\n",
              "      <td>0</td>\n",
              "      <td>0</td>\n",
              "      <td>0</td>\n",
              "      <td>0</td>\n",
              "      <td>0</td>\n",
              "      <td>47.07</td>\n",
              "    </tr>\n",
              "    <tr>\n",
              "      <th>2</th>\n",
              "      <td>2017-08-18</td>\n",
              "      <td>5</td>\n",
              "      <td>18</td>\n",
              "      <td>8</td>\n",
              "      <td>3</td>\n",
              "      <td>2</td>\n",
              "      <td>2017</td>\n",
              "      <td>230</td>\n",
              "      <td>0</td>\n",
              "      <td>0</td>\n",
              "      <td>0</td>\n",
              "      <td>0</td>\n",
              "      <td>0</td>\n",
              "      <td>0</td>\n",
              "      <td>48.59</td>\n",
              "    </tr>\n",
              "    <tr>\n",
              "      <th>3</th>\n",
              "      <td>2017-08-19</td>\n",
              "      <td>6</td>\n",
              "      <td>19</td>\n",
              "      <td>8</td>\n",
              "      <td>3</td>\n",
              "      <td>2</td>\n",
              "      <td>2017</td>\n",
              "      <td>231</td>\n",
              "      <td>0</td>\n",
              "      <td>0</td>\n",
              "      <td>1</td>\n",
              "      <td>0</td>\n",
              "      <td>0</td>\n",
              "      <td>1</td>\n",
              "      <td>48.59</td>\n",
              "    </tr>\n",
              "    <tr>\n",
              "      <th>4</th>\n",
              "      <td>2017-08-20</td>\n",
              "      <td>7</td>\n",
              "      <td>20</td>\n",
              "      <td>8</td>\n",
              "      <td>3</td>\n",
              "      <td>2</td>\n",
              "      <td>2017</td>\n",
              "      <td>232</td>\n",
              "      <td>0</td>\n",
              "      <td>0</td>\n",
              "      <td>1</td>\n",
              "      <td>0</td>\n",
              "      <td>0</td>\n",
              "      <td>1</td>\n",
              "      <td>48.59</td>\n",
              "    </tr>\n",
              "  </tbody>\n",
              "</table>\n",
              "</div>"
            ],
            "text/plain": [
              "        date  DOW2  Day  Month  ...  holyday  Event  feriado_fds  dcoilwtico\n",
              "0 2017-08-16     3   16      8  ...        0      0            0       46.80\n",
              "1 2017-08-17     4   17      8  ...        0      0            0       47.07\n",
              "2 2017-08-18     5   18      8  ...        0      0            0       48.59\n",
              "3 2017-08-19     6   19      8  ...        0      0            1       48.59\n",
              "4 2017-08-20     7   20      8  ...        0      0            1       48.59\n",
              "\n",
              "[5 rows x 15 columns]"
            ]
          },
          "metadata": {},
          "execution_count": 63
        }
      ]
    },
    {
      "cell_type": "code",
      "metadata": {
        "colab": {
          "base_uri": "https://localhost:8080/",
          "height": 204
        },
        "id": "ppcnLUTBgwFF",
        "outputId": "1b58f97c-c5a3-4c32-d7e2-c39004df68c6"
      },
      "source": [
        "c_train.tail()"
      ],
      "execution_count": null,
      "outputs": [
        {
          "output_type": "execute_result",
          "data": {
            "text/html": [
              "<div>\n",
              "<style scoped>\n",
              "    .dataframe tbody tr th:only-of-type {\n",
              "        vertical-align: middle;\n",
              "    }\n",
              "\n",
              "    .dataframe tbody tr th {\n",
              "        vertical-align: top;\n",
              "    }\n",
              "\n",
              "    .dataframe thead th {\n",
              "        text-align: right;\n",
              "    }\n",
              "</style>\n",
              "<table border=\"1\" class=\"dataframe\">\n",
              "  <thead>\n",
              "    <tr style=\"text-align: right;\">\n",
              "      <th></th>\n",
              "      <th>date</th>\n",
              "      <th>DOW2</th>\n",
              "      <th>Day</th>\n",
              "      <th>Month</th>\n",
              "      <th>Quarter</th>\n",
              "      <th>Semester</th>\n",
              "      <th>Year</th>\n",
              "      <th>DOY</th>\n",
              "      <th>pub_pay</th>\n",
              "      <th>priv_pay</th>\n",
              "      <th>FDS</th>\n",
              "      <th>holyday</th>\n",
              "      <th>Event</th>\n",
              "      <th>feriado_fds</th>\n",
              "      <th>dcoilwtico</th>\n",
              "    </tr>\n",
              "  </thead>\n",
              "  <tbody>\n",
              "    <tr>\n",
              "      <th>1683</th>\n",
              "      <td>2017-08-11</td>\n",
              "      <td>5</td>\n",
              "      <td>11</td>\n",
              "      <td>8</td>\n",
              "      <td>3</td>\n",
              "      <td>2</td>\n",
              "      <td>2017</td>\n",
              "      <td>223</td>\n",
              "      <td>0</td>\n",
              "      <td>0</td>\n",
              "      <td>0</td>\n",
              "      <td>1</td>\n",
              "      <td>0</td>\n",
              "      <td>1</td>\n",
              "      <td>48.81</td>\n",
              "    </tr>\n",
              "    <tr>\n",
              "      <th>1684</th>\n",
              "      <td>2017-08-12</td>\n",
              "      <td>6</td>\n",
              "      <td>12</td>\n",
              "      <td>8</td>\n",
              "      <td>3</td>\n",
              "      <td>2</td>\n",
              "      <td>2017</td>\n",
              "      <td>224</td>\n",
              "      <td>0</td>\n",
              "      <td>0</td>\n",
              "      <td>1</td>\n",
              "      <td>0</td>\n",
              "      <td>0</td>\n",
              "      <td>1</td>\n",
              "      <td>48.81</td>\n",
              "    </tr>\n",
              "    <tr>\n",
              "      <th>1685</th>\n",
              "      <td>2017-08-13</td>\n",
              "      <td>7</td>\n",
              "      <td>13</td>\n",
              "      <td>8</td>\n",
              "      <td>3</td>\n",
              "      <td>2</td>\n",
              "      <td>2017</td>\n",
              "      <td>225</td>\n",
              "      <td>0</td>\n",
              "      <td>0</td>\n",
              "      <td>1</td>\n",
              "      <td>0</td>\n",
              "      <td>0</td>\n",
              "      <td>1</td>\n",
              "      <td>48.81</td>\n",
              "    </tr>\n",
              "    <tr>\n",
              "      <th>1686</th>\n",
              "      <td>2017-08-14</td>\n",
              "      <td>1</td>\n",
              "      <td>14</td>\n",
              "      <td>8</td>\n",
              "      <td>3</td>\n",
              "      <td>2</td>\n",
              "      <td>2017</td>\n",
              "      <td>226</td>\n",
              "      <td>0</td>\n",
              "      <td>0</td>\n",
              "      <td>0</td>\n",
              "      <td>0</td>\n",
              "      <td>0</td>\n",
              "      <td>0</td>\n",
              "      <td>47.59</td>\n",
              "    </tr>\n",
              "    <tr>\n",
              "      <th>1687</th>\n",
              "      <td>2017-08-15</td>\n",
              "      <td>2</td>\n",
              "      <td>15</td>\n",
              "      <td>8</td>\n",
              "      <td>3</td>\n",
              "      <td>2</td>\n",
              "      <td>2017</td>\n",
              "      <td>227</td>\n",
              "      <td>1</td>\n",
              "      <td>0</td>\n",
              "      <td>0</td>\n",
              "      <td>0</td>\n",
              "      <td>0</td>\n",
              "      <td>0</td>\n",
              "      <td>47.57</td>\n",
              "    </tr>\n",
              "  </tbody>\n",
              "</table>\n",
              "</div>"
            ],
            "text/plain": [
              "           date  DOW2  Day  Month  ...  holyday  Event  feriado_fds  dcoilwtico\n",
              "1683 2017-08-11     5   11      8  ...        1      0            1       48.81\n",
              "1684 2017-08-12     6   12      8  ...        0      0            1       48.81\n",
              "1685 2017-08-13     7   13      8  ...        0      0            1       48.81\n",
              "1686 2017-08-14     1   14      8  ...        0      0            0       47.59\n",
              "1687 2017-08-15     2   15      8  ...        0      0            0       47.57\n",
              "\n",
              "[5 rows x 15 columns]"
            ]
          },
          "metadata": {},
          "execution_count": 64
        }
      ]
    },
    {
      "cell_type": "code",
      "metadata": {
        "id": "mDOkG4XahdNf"
      },
      "source": [
        "c_test.to_csv('drive/MyDrive/store_sales/c_test.csv')\n",
        "c_train.to_csv('drive/MyDrive/store_sales/c_train.csv')"
      ],
      "execution_count": null,
      "outputs": []
    },
    {
      "cell_type": "code",
      "metadata": {
        "id": "k6RY2ObfiPK2",
        "colab": {
          "base_uri": "https://localhost:8080/",
          "height": 419
        },
        "outputId": "4283d43c-a744-4724-d2a1-d3c5a0301d55"
      },
      "source": [
        "holy_region"
      ],
      "execution_count": null,
      "outputs": [
        {
          "output_type": "execute_result",
          "data": {
            "text/html": [
              "<div>\n",
              "<style scoped>\n",
              "    .dataframe tbody tr th:only-of-type {\n",
              "        vertical-align: middle;\n",
              "    }\n",
              "\n",
              "    .dataframe tbody tr th {\n",
              "        vertical-align: top;\n",
              "    }\n",
              "\n",
              "    .dataframe thead th {\n",
              "        text-align: right;\n",
              "    }\n",
              "</style>\n",
              "<table border=\"1\" class=\"dataframe\">\n",
              "  <thead>\n",
              "    <tr style=\"text-align: right;\">\n",
              "      <th></th>\n",
              "      <th>date</th>\n",
              "      <th>type</th>\n",
              "      <th>locale</th>\n",
              "      <th>locale_name</th>\n",
              "      <th>description</th>\n",
              "      <th>transferred</th>\n",
              "      <th>holyday</th>\n",
              "      <th>Event</th>\n",
              "      <th>d_locale</th>\n",
              "    </tr>\n",
              "  </thead>\n",
              "  <tbody>\n",
              "    <tr>\n",
              "      <th>0</th>\n",
              "      <td>2012-03-02</td>\n",
              "      <td>Holiday</td>\n",
              "      <td>Local</td>\n",
              "      <td>Manta</td>\n",
              "      <td>Fundacion de Manta</td>\n",
              "      <td>False</td>\n",
              "      <td>1.0</td>\n",
              "      <td>0.0</td>\n",
              "      <td>2012-03-02-Manta</td>\n",
              "    </tr>\n",
              "    <tr>\n",
              "      <th>1</th>\n",
              "      <td>2012-04-01</td>\n",
              "      <td>Holiday</td>\n",
              "      <td>Regional</td>\n",
              "      <td>Cotopaxi</td>\n",
              "      <td>Provincializacion de Cotopaxi</td>\n",
              "      <td>False</td>\n",
              "      <td>1.0</td>\n",
              "      <td>0.0</td>\n",
              "      <td>2012-04-01-Cotopaxi</td>\n",
              "    </tr>\n",
              "    <tr>\n",
              "      <th>2</th>\n",
              "      <td>2012-04-12</td>\n",
              "      <td>Holiday</td>\n",
              "      <td>Local</td>\n",
              "      <td>Cuenca</td>\n",
              "      <td>Fundacion de Cuenca</td>\n",
              "      <td>False</td>\n",
              "      <td>1.0</td>\n",
              "      <td>0.0</td>\n",
              "      <td>2012-04-12-Cuenca</td>\n",
              "    </tr>\n",
              "    <tr>\n",
              "      <th>3</th>\n",
              "      <td>2012-04-14</td>\n",
              "      <td>Holiday</td>\n",
              "      <td>Local</td>\n",
              "      <td>Libertad</td>\n",
              "      <td>Cantonizacion de Libertad</td>\n",
              "      <td>False</td>\n",
              "      <td>1.0</td>\n",
              "      <td>0.0</td>\n",
              "      <td>2012-04-14-Libertad</td>\n",
              "    </tr>\n",
              "    <tr>\n",
              "      <th>4</th>\n",
              "      <td>2012-04-21</td>\n",
              "      <td>Holiday</td>\n",
              "      <td>Local</td>\n",
              "      <td>Riobamba</td>\n",
              "      <td>Cantonizacion de Riobamba</td>\n",
              "      <td>False</td>\n",
              "      <td>1.0</td>\n",
              "      <td>0.0</td>\n",
              "      <td>2012-04-21-Riobamba</td>\n",
              "    </tr>\n",
              "    <tr>\n",
              "      <th>...</th>\n",
              "      <td>...</td>\n",
              "      <td>...</td>\n",
              "      <td>...</td>\n",
              "      <td>...</td>\n",
              "      <td>...</td>\n",
              "      <td>...</td>\n",
              "      <td>...</td>\n",
              "      <td>...</td>\n",
              "      <td>...</td>\n",
              "    </tr>\n",
              "    <tr>\n",
              "      <th>338</th>\n",
              "      <td>2017-11-12</td>\n",
              "      <td>Holiday</td>\n",
              "      <td>Local</td>\n",
              "      <td>Ambato</td>\n",
              "      <td>Independencia de Ambato</td>\n",
              "      <td>False</td>\n",
              "      <td>1.0</td>\n",
              "      <td>0.0</td>\n",
              "      <td>2017-11-12-Ambato</td>\n",
              "    </tr>\n",
              "    <tr>\n",
              "      <th>339</th>\n",
              "      <td>2017-12-05</td>\n",
              "      <td>Additional</td>\n",
              "      <td>Local</td>\n",
              "      <td>Quito</td>\n",
              "      <td>Fundacion de Quito-1</td>\n",
              "      <td>False</td>\n",
              "      <td>1.0</td>\n",
              "      <td>0.0</td>\n",
              "      <td>2017-12-05-Quito</td>\n",
              "    </tr>\n",
              "    <tr>\n",
              "      <th>340</th>\n",
              "      <td>2017-12-06</td>\n",
              "      <td>Holiday</td>\n",
              "      <td>Local</td>\n",
              "      <td>Quito</td>\n",
              "      <td>Fundacion de Quito</td>\n",
              "      <td>True</td>\n",
              "      <td>0.0</td>\n",
              "      <td>0.0</td>\n",
              "      <td>2017-12-06-Quito</td>\n",
              "    </tr>\n",
              "    <tr>\n",
              "      <th>341</th>\n",
              "      <td>2017-12-08</td>\n",
              "      <td>Holiday</td>\n",
              "      <td>Local</td>\n",
              "      <td>Loja</td>\n",
              "      <td>Fundacion de Loja</td>\n",
              "      <td>False</td>\n",
              "      <td>1.0</td>\n",
              "      <td>0.0</td>\n",
              "      <td>2017-12-08-Loja</td>\n",
              "    </tr>\n",
              "    <tr>\n",
              "      <th>344</th>\n",
              "      <td>2017-12-22</td>\n",
              "      <td>Holiday</td>\n",
              "      <td>Local</td>\n",
              "      <td>Salinas</td>\n",
              "      <td>Cantonizacion de Salinas</td>\n",
              "      <td>False</td>\n",
              "      <td>1.0</td>\n",
              "      <td>0.0</td>\n",
              "      <td>2017-12-22-Salinas</td>\n",
              "    </tr>\n",
              "  </tbody>\n",
              "</table>\n",
              "<p>156 rows × 9 columns</p>\n",
              "</div>"
            ],
            "text/plain": [
              "           date        type    locale  ... holyday Event             d_locale\n",
              "0    2012-03-02     Holiday     Local  ...     1.0   0.0     2012-03-02-Manta\n",
              "1    2012-04-01     Holiday  Regional  ...     1.0   0.0  2012-04-01-Cotopaxi\n",
              "2    2012-04-12     Holiday     Local  ...     1.0   0.0    2012-04-12-Cuenca\n",
              "3    2012-04-14     Holiday     Local  ...     1.0   0.0  2012-04-14-Libertad\n",
              "4    2012-04-21     Holiday     Local  ...     1.0   0.0  2012-04-21-Riobamba\n",
              "..          ...         ...       ...  ...     ...   ...                  ...\n",
              "338  2017-11-12     Holiday     Local  ...     1.0   0.0    2017-11-12-Ambato\n",
              "339  2017-12-05  Additional     Local  ...     1.0   0.0     2017-12-05-Quito\n",
              "340  2017-12-06     Holiday     Local  ...     0.0   0.0     2017-12-06-Quito\n",
              "341  2017-12-08     Holiday     Local  ...     1.0   0.0      2017-12-08-Loja\n",
              "344  2017-12-22     Holiday     Local  ...     1.0   0.0   2017-12-22-Salinas\n",
              "\n",
              "[156 rows x 9 columns]"
            ]
          },
          "metadata": {},
          "execution_count": 66
        }
      ]
    },
    {
      "cell_type": "code",
      "metadata": {
        "colab": {
          "base_uri": "https://localhost:8080/",
          "height": 419
        },
        "id": "i8kgW8PMtmuO",
        "outputId": "b01d1735-9a53-4e95-9d81-ae33df28fbe2"
      },
      "source": [
        "start_date = \"2013-01-01\"\n",
        "end_date = \"2017-08-15\"\n",
        "\n",
        "after_start_date = holy_region[\"date\"] >= start_date\n",
        "before_end_date = holy_region[\"date\"] <= end_date\n",
        "between_two_dates = after_start_date & before_end_date\n",
        "r_train = holy_region.loc[between_two_dates]\n",
        "r_train\n",
        "\n"
      ],
      "execution_count": null,
      "outputs": [
        {
          "output_type": "execute_result",
          "data": {
            "text/html": [
              "<div>\n",
              "<style scoped>\n",
              "    .dataframe tbody tr th:only-of-type {\n",
              "        vertical-align: middle;\n",
              "    }\n",
              "\n",
              "    .dataframe tbody tr th {\n",
              "        vertical-align: top;\n",
              "    }\n",
              "\n",
              "    .dataframe thead th {\n",
              "        text-align: right;\n",
              "    }\n",
              "</style>\n",
              "<table border=\"1\" class=\"dataframe\">\n",
              "  <thead>\n",
              "    <tr style=\"text-align: right;\">\n",
              "      <th></th>\n",
              "      <th>date</th>\n",
              "      <th>type</th>\n",
              "      <th>locale</th>\n",
              "      <th>locale_name</th>\n",
              "      <th>description</th>\n",
              "      <th>transferred</th>\n",
              "      <th>holyday</th>\n",
              "      <th>Event</th>\n",
              "      <th>d_locale</th>\n",
              "    </tr>\n",
              "  </thead>\n",
              "  <tbody>\n",
              "    <tr>\n",
              "      <th>46</th>\n",
              "      <td>2013-03-02</td>\n",
              "      <td>Holiday</td>\n",
              "      <td>Local</td>\n",
              "      <td>Manta</td>\n",
              "      <td>Fundacion de Manta</td>\n",
              "      <td>False</td>\n",
              "      <td>1.0</td>\n",
              "      <td>0.0</td>\n",
              "      <td>2013-03-02-Manta</td>\n",
              "    </tr>\n",
              "    <tr>\n",
              "      <th>47</th>\n",
              "      <td>2013-04-01</td>\n",
              "      <td>Holiday</td>\n",
              "      <td>Regional</td>\n",
              "      <td>Cotopaxi</td>\n",
              "      <td>Provincializacion de Cotopaxi</td>\n",
              "      <td>False</td>\n",
              "      <td>1.0</td>\n",
              "      <td>0.0</td>\n",
              "      <td>2013-04-01-Cotopaxi</td>\n",
              "    </tr>\n",
              "    <tr>\n",
              "      <th>48</th>\n",
              "      <td>2013-04-12</td>\n",
              "      <td>Holiday</td>\n",
              "      <td>Local</td>\n",
              "      <td>Cuenca</td>\n",
              "      <td>Fundacion de Cuenca</td>\n",
              "      <td>False</td>\n",
              "      <td>1.0</td>\n",
              "      <td>0.0</td>\n",
              "      <td>2013-04-12-Cuenca</td>\n",
              "    </tr>\n",
              "    <tr>\n",
              "      <th>49</th>\n",
              "      <td>2013-04-14</td>\n",
              "      <td>Holiday</td>\n",
              "      <td>Local</td>\n",
              "      <td>Libertad</td>\n",
              "      <td>Cantonizacion de Libertad</td>\n",
              "      <td>False</td>\n",
              "      <td>1.0</td>\n",
              "      <td>0.0</td>\n",
              "      <td>2013-04-14-Libertad</td>\n",
              "    </tr>\n",
              "    <tr>\n",
              "      <th>50</th>\n",
              "      <td>2013-04-21</td>\n",
              "      <td>Holiday</td>\n",
              "      <td>Local</td>\n",
              "      <td>Riobamba</td>\n",
              "      <td>Cantonizacion de Riobamba</td>\n",
              "      <td>False</td>\n",
              "      <td>1.0</td>\n",
              "      <td>0.0</td>\n",
              "      <td>2013-04-21-Riobamba</td>\n",
              "    </tr>\n",
              "    <tr>\n",
              "      <th>...</th>\n",
              "      <td>...</td>\n",
              "      <td>...</td>\n",
              "      <td>...</td>\n",
              "      <td>...</td>\n",
              "      <td>...</td>\n",
              "      <td>...</td>\n",
              "      <td>...</td>\n",
              "      <td>...</td>\n",
              "      <td>...</td>\n",
              "    </tr>\n",
              "    <tr>\n",
              "      <th>320</th>\n",
              "      <td>2017-07-23</td>\n",
              "      <td>Holiday</td>\n",
              "      <td>Local</td>\n",
              "      <td>Cayambe</td>\n",
              "      <td>Cantonizacion de Cayambe</td>\n",
              "      <td>False</td>\n",
              "      <td>1.0</td>\n",
              "      <td>0.0</td>\n",
              "      <td>2017-07-23-Cayambe</td>\n",
              "    </tr>\n",
              "    <tr>\n",
              "      <th>321</th>\n",
              "      <td>2017-07-24</td>\n",
              "      <td>Additional</td>\n",
              "      <td>Local</td>\n",
              "      <td>Guayaquil</td>\n",
              "      <td>Fundacion de Guayaquil-1</td>\n",
              "      <td>False</td>\n",
              "      <td>1.0</td>\n",
              "      <td>0.0</td>\n",
              "      <td>2017-07-24-Guayaquil</td>\n",
              "    </tr>\n",
              "    <tr>\n",
              "      <th>322</th>\n",
              "      <td>2017-07-25</td>\n",
              "      <td>Additional</td>\n",
              "      <td>Local</td>\n",
              "      <td>Guayaquil</td>\n",
              "      <td>Fundacion de Guayaquil</td>\n",
              "      <td>False</td>\n",
              "      <td>1.0</td>\n",
              "      <td>0.0</td>\n",
              "      <td>2017-07-25-Guayaquil</td>\n",
              "    </tr>\n",
              "    <tr>\n",
              "      <th>323</th>\n",
              "      <td>2017-08-05</td>\n",
              "      <td>Holiday</td>\n",
              "      <td>Local</td>\n",
              "      <td>Esmeraldas</td>\n",
              "      <td>Fundacion de Esmeraldas</td>\n",
              "      <td>False</td>\n",
              "      <td>1.0</td>\n",
              "      <td>0.0</td>\n",
              "      <td>2017-08-05-Esmeraldas</td>\n",
              "    </tr>\n",
              "    <tr>\n",
              "      <th>326</th>\n",
              "      <td>2017-08-15</td>\n",
              "      <td>Holiday</td>\n",
              "      <td>Local</td>\n",
              "      <td>Riobamba</td>\n",
              "      <td>Fundacion de Riobamba</td>\n",
              "      <td>False</td>\n",
              "      <td>1.0</td>\n",
              "      <td>0.0</td>\n",
              "      <td>2017-08-15-Riobamba</td>\n",
              "    </tr>\n",
              "  </tbody>\n",
              "</table>\n",
              "<p>119 rows × 9 columns</p>\n",
              "</div>"
            ],
            "text/plain": [
              "           date        type    locale  ... holyday Event               d_locale\n",
              "46   2013-03-02     Holiday     Local  ...     1.0   0.0       2013-03-02-Manta\n",
              "47   2013-04-01     Holiday  Regional  ...     1.0   0.0    2013-04-01-Cotopaxi\n",
              "48   2013-04-12     Holiday     Local  ...     1.0   0.0      2013-04-12-Cuenca\n",
              "49   2013-04-14     Holiday     Local  ...     1.0   0.0    2013-04-14-Libertad\n",
              "50   2013-04-21     Holiday     Local  ...     1.0   0.0    2013-04-21-Riobamba\n",
              "..          ...         ...       ...  ...     ...   ...                    ...\n",
              "320  2017-07-23     Holiday     Local  ...     1.0   0.0     2017-07-23-Cayambe\n",
              "321  2017-07-24  Additional     Local  ...     1.0   0.0   2017-07-24-Guayaquil\n",
              "322  2017-07-25  Additional     Local  ...     1.0   0.0   2017-07-25-Guayaquil\n",
              "323  2017-08-05     Holiday     Local  ...     1.0   0.0  2017-08-05-Esmeraldas\n",
              "326  2017-08-15     Holiday     Local  ...     1.0   0.0    2017-08-15-Riobamba\n",
              "\n",
              "[119 rows x 9 columns]"
            ]
          },
          "metadata": {},
          "execution_count": 67
        }
      ]
    },
    {
      "cell_type": "code",
      "metadata": {
        "colab": {
          "base_uri": "https://localhost:8080/",
          "height": 80
        },
        "id": "ve7nXeT8sU7a",
        "outputId": "70e1f107-6654-4a0f-c83e-23c25ccc6bad"
      },
      "source": [
        "start_date = \"2017-08-16\"\n",
        "end_date = \"2017-08-31\"\n",
        "\n",
        "after_start_date = holy_region[\"date\"] >= start_date\n",
        "before_end_date = holy_region[\"date\"] <= end_date\n",
        "between_two_dates = after_start_date & before_end_date\n",
        "r_test = holy_region.loc[between_two_dates]\n",
        "r_test"
      ],
      "execution_count": null,
      "outputs": [
        {
          "output_type": "execute_result",
          "data": {
            "text/html": [
              "<div>\n",
              "<style scoped>\n",
              "    .dataframe tbody tr th:only-of-type {\n",
              "        vertical-align: middle;\n",
              "    }\n",
              "\n",
              "    .dataframe tbody tr th {\n",
              "        vertical-align: top;\n",
              "    }\n",
              "\n",
              "    .dataframe thead th {\n",
              "        text-align: right;\n",
              "    }\n",
              "</style>\n",
              "<table border=\"1\" class=\"dataframe\">\n",
              "  <thead>\n",
              "    <tr style=\"text-align: right;\">\n",
              "      <th></th>\n",
              "      <th>date</th>\n",
              "      <th>type</th>\n",
              "      <th>locale</th>\n",
              "      <th>locale_name</th>\n",
              "      <th>description</th>\n",
              "      <th>transferred</th>\n",
              "      <th>holyday</th>\n",
              "      <th>Event</th>\n",
              "      <th>d_locale</th>\n",
              "    </tr>\n",
              "  </thead>\n",
              "  <tbody>\n",
              "    <tr>\n",
              "      <th>327</th>\n",
              "      <td>2017-08-24</td>\n",
              "      <td>Holiday</td>\n",
              "      <td>Local</td>\n",
              "      <td>Ambato</td>\n",
              "      <td>Fundacion de Ambato</td>\n",
              "      <td>False</td>\n",
              "      <td>1.0</td>\n",
              "      <td>0.0</td>\n",
              "      <td>2017-08-24-Ambato</td>\n",
              "    </tr>\n",
              "  </tbody>\n",
              "</table>\n",
              "</div>"
            ],
            "text/plain": [
              "           date     type locale  ... holyday Event           d_locale\n",
              "327  2017-08-24  Holiday  Local  ...     1.0   0.0  2017-08-24-Ambato\n",
              "\n",
              "[1 rows x 9 columns]"
            ]
          },
          "metadata": {},
          "execution_count": 68
        }
      ]
    },
    {
      "cell_type": "code",
      "metadata": {
        "id": "yu9pOd7cscSY",
        "colab": {
          "base_uri": "https://localhost:8080/"
        },
        "outputId": "9d9db0de-23fa-400f-d9b3-7a089797ce1f"
      },
      "source": [
        "\n",
        "r_train.drop([\"Event\", \"description\"], axis=1, inplace=True)"
      ],
      "execution_count": null,
      "outputs": [
        {
          "output_type": "stream",
          "name": "stderr",
          "text": [
            "/usr/local/lib/python3.7/dist-packages/pandas/core/frame.py:4174: SettingWithCopyWarning: \n",
            "A value is trying to be set on a copy of a slice from a DataFrame\n",
            "\n",
            "See the caveats in the documentation: https://pandas.pydata.org/pandas-docs/stable/user_guide/indexing.html#returning-a-view-versus-a-copy\n",
            "  errors=errors,\n"
          ]
        }
      ]
    },
    {
      "cell_type": "code",
      "metadata": {
        "colab": {
          "base_uri": "https://localhost:8080/",
          "height": 142
        },
        "id": "8VVMjsoUwID1",
        "outputId": "90535422-7b62-499a-f69d-2a91aab5cea3"
      },
      "source": [
        "r_train.groupby([\"transferred\"]).count()"
      ],
      "execution_count": null,
      "outputs": [
        {
          "output_type": "execute_result",
          "data": {
            "text/html": [
              "<div>\n",
              "<style scoped>\n",
              "    .dataframe tbody tr th:only-of-type {\n",
              "        vertical-align: middle;\n",
              "    }\n",
              "\n",
              "    .dataframe tbody tr th {\n",
              "        vertical-align: top;\n",
              "    }\n",
              "\n",
              "    .dataframe thead th {\n",
              "        text-align: right;\n",
              "    }\n",
              "</style>\n",
              "<table border=\"1\" class=\"dataframe\">\n",
              "  <thead>\n",
              "    <tr style=\"text-align: right;\">\n",
              "      <th></th>\n",
              "      <th>date</th>\n",
              "      <th>type</th>\n",
              "      <th>locale</th>\n",
              "      <th>locale_name</th>\n",
              "      <th>holyday</th>\n",
              "      <th>d_locale</th>\n",
              "    </tr>\n",
              "    <tr>\n",
              "      <th>transferred</th>\n",
              "      <th></th>\n",
              "      <th></th>\n",
              "      <th></th>\n",
              "      <th></th>\n",
              "      <th></th>\n",
              "      <th></th>\n",
              "    </tr>\n",
              "  </thead>\n",
              "  <tbody>\n",
              "    <tr>\n",
              "      <th>False</th>\n",
              "      <td>117</td>\n",
              "      <td>117</td>\n",
              "      <td>117</td>\n",
              "      <td>117</td>\n",
              "      <td>117</td>\n",
              "      <td>117</td>\n",
              "    </tr>\n",
              "    <tr>\n",
              "      <th>True</th>\n",
              "      <td>2</td>\n",
              "      <td>2</td>\n",
              "      <td>2</td>\n",
              "      <td>2</td>\n",
              "      <td>2</td>\n",
              "      <td>2</td>\n",
              "    </tr>\n",
              "  </tbody>\n",
              "</table>\n",
              "</div>"
            ],
            "text/plain": [
              "             date  type  locale  locale_name  holyday  d_locale\n",
              "transferred                                                    \n",
              "False         117   117     117          117      117       117\n",
              "True            2     2       2            2        2         2"
            ]
          },
          "metadata": {},
          "execution_count": 70
        }
      ]
    },
    {
      "cell_type": "code",
      "metadata": {
        "colab": {
          "base_uri": "https://localhost:8080/"
        },
        "id": "stH_k0TL0OxN",
        "outputId": "c2dca727-dcf4-486a-bd18-e15a11f3015d"
      },
      "source": [
        "#transferred ya no tiene información\n",
        "r_train.drop([\"transferred\"], axis=1, inplace=True)\n",
        "r_test.drop([\"transferred\"], axis=1, inplace=True)"
      ],
      "execution_count": null,
      "outputs": [
        {
          "output_type": "stream",
          "name": "stderr",
          "text": [
            "/usr/local/lib/python3.7/dist-packages/pandas/core/frame.py:4174: SettingWithCopyWarning: \n",
            "A value is trying to be set on a copy of a slice from a DataFrame\n",
            "\n",
            "See the caveats in the documentation: https://pandas.pydata.org/pandas-docs/stable/user_guide/indexing.html#returning-a-view-versus-a-copy\n",
            "  errors=errors,\n"
          ]
        }
      ]
    },
    {
      "cell_type": "code",
      "metadata": {
        "colab": {
          "base_uri": "https://localhost:8080/"
        },
        "id": "Yvrh4xxYxl5m",
        "outputId": "e3f5931a-4408-465b-8a8f-1b81c38c041d"
      },
      "source": [
        "r_test.drop([\"Event\", \"description\"], axis=1, inplace=True)"
      ],
      "execution_count": null,
      "outputs": [
        {
          "output_type": "stream",
          "name": "stderr",
          "text": [
            "/usr/local/lib/python3.7/dist-packages/pandas/core/frame.py:4174: SettingWithCopyWarning: \n",
            "A value is trying to be set on a copy of a slice from a DataFrame\n",
            "\n",
            "See the caveats in the documentation: https://pandas.pydata.org/pandas-docs/stable/user_guide/indexing.html#returning-a-view-versus-a-copy\n",
            "  errors=errors,\n"
          ]
        }
      ]
    },
    {
      "cell_type": "code",
      "metadata": {
        "colab": {
          "base_uri": "https://localhost:8080/"
        },
        "id": "Q05334hqyxLS",
        "outputId": "21413950-078f-4e55-d2a5-0a0263871e6b"
      },
      "source": [
        "r_test.drop([\"type\", \"locale\"], axis=1, inplace=True)\n",
        "r_train.drop([\"type\", \"locale\"], axis=1, inplace=True)"
      ],
      "execution_count": null,
      "outputs": [
        {
          "output_type": "stream",
          "name": "stderr",
          "text": [
            "/usr/local/lib/python3.7/dist-packages/pandas/core/frame.py:4174: SettingWithCopyWarning: \n",
            "A value is trying to be set on a copy of a slice from a DataFrame\n",
            "\n",
            "See the caveats in the documentation: https://pandas.pydata.org/pandas-docs/stable/user_guide/indexing.html#returning-a-view-versus-a-copy\n",
            "  errors=errors,\n"
          ]
        }
      ]
    },
    {
      "cell_type": "code",
      "metadata": {
        "id": "3tsbq7SM0ofp"
      },
      "source": [
        "r_test.to_csv('drive/MyDrive/store_sales/r_test.csv', index=False)\n",
        "r_train.to_csv('drive/MyDrive/store_sales/r_test.csv', index=False)"
      ],
      "execution_count": null,
      "outputs": []
    },
    {
      "cell_type": "code",
      "metadata": {
        "id": "g4GMHfIU5ofF"
      },
      "source": [
        ""
      ],
      "execution_count": null,
      "outputs": []
    }
  ]
}